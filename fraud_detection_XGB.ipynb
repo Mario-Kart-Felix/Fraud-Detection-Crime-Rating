{
  "nbformat": 4,
  "nbformat_minor": 0,
  "metadata": {
    "colab": {
      "name": "fraud_detection_XGB.ipynb",
      "provenance": [],
      "collapsed_sections": [],
      "authorship_tag": "ABX9TyNCOJ4NyfBJYjhCBMuAJzKm",
      "include_colab_link": true
    },
    "kernelspec": {
      "name": "python3",
      "display_name": "Python 3"
    },
    "accelerator": "GPU"
  },
  "cells": [
    {
      "cell_type": "markdown",
      "metadata": {
        "id": "view-in-github",
        "colab_type": "text"
      },
      "source": [
        "<a href=\"https://colab.research.google.com/github/Marzieh777/Fraud-Detection-Crime-Rating/blob/master/fraud_detection_XGB.ipynb\" target=\"_parent\"><img src=\"https://colab.research.google.com/assets/colab-badge.svg\" alt=\"Open In Colab\"/></a>"
      ]
    },
    {
      "cell_type": "code",
      "metadata": {
        "id": "0N7R7HsJd2rF",
        "colab_type": "code",
        "outputId": "67181ee0-4a36-48c7-8266-b387d6992600",
        "colab": {
          "base_uri": "https://localhost:8080/",
          "height": 126
        }
      },
      "source": [
        "#importing necessary packages\n",
        "import pandas as pd\n",
        "import numpy as np\n",
        "import gzip\n",
        "from sklearn.metrics import (confusion_matrix, precision_recall_curve, auc,accuracy_score,\n",
        "                             roc_curve, recall_score, classification_report, f1_score,\n",
        "                             precision_recall_fscore_support, roc_auc_score, average_precision_score)\n",
        "from google.colab import drive\n",
        "from sklearn.model_selection import train_test_split\n",
        "\n",
        "import xgboost as xgb\n",
        "import matplotlib\n",
        "\n",
        "drive.mount(\"/content/drive\", force_remount=True)"
      ],
      "execution_count": 1,
      "outputs": [
        {
          "output_type": "stream",
          "text": [
            "Go to this URL in a browser: https://accounts.google.com/o/oauth2/auth?client_id=947318989803-6bn6qk8qdgf4n4g3pfee6491hc0brc4i.apps.googleusercontent.com&redirect_uri=urn%3aietf%3awg%3aoauth%3a2.0%3aoob&response_type=code&scope=email%20https%3a%2f%2fwww.googleapis.com%2fauth%2fdocs.test%20https%3a%2f%2fwww.googleapis.com%2fauth%2fdrive%20https%3a%2f%2fwww.googleapis.com%2fauth%2fdrive.photos.readonly%20https%3a%2f%2fwww.googleapis.com%2fauth%2fpeopleapi.readonly\n",
            "\n",
            "Enter your authorization code:\n",
            "··········\n",
            "Mounted at /content/drive\n"
          ],
          "name": "stdout"
        }
      ]
    },
    {
      "cell_type": "markdown",
      "metadata": {
        "id": "3NzmSlECjpkN",
        "colab_type": "text"
      },
      "source": [
        "# Load data and create a panadas dataframe"
      ]
    },
    {
      "cell_type": "code",
      "metadata": {
        "id": "LqSAXBiKeC7H",
        "colab_type": "code",
        "colab": {
          "base_uri": "https://localhost:8080/",
          "height": 159
        },
        "outputId": "e9e213bc-6234-40a1-d099-7137bcb0fc84"
      },
      "source": [
        "path_data= '/content/drive/My Drive/Colab Notebooks/fraud_prep.csv.gz'\n",
        "fraud_df = pd.read_csv(path_data, compression='gzip', header=0, sep=',')\n",
        "print(fraud_df.head())"
      ],
      "execution_count": 2,
      "outputs": [
        {
          "output_type": "stream",
          "text": [
            "   Unnamed: 0  Time  ...                                        V30      V31\n",
            "0           0   0.0  ...                                        NaN  Suffolk\n",
            "1           1   0.0  ...  JPMorgan Chase Bank, National Association   Nassau\n",
            "2           2   1.0  ...                               TD Bank N.A.     Erie\n",
            "3           3   1.0  ...                             Santander Bank   Ulster\n",
            "4           4   2.0  ...                Chemung Canal Trust Company   Oswego\n",
            "\n",
            "[5 rows x 35 columns]\n"
          ],
          "name": "stdout"
        }
      ]
    },
    {
      "cell_type": "markdown",
      "metadata": {
        "id": "p3klLtRAj41M",
        "colab_type": "text"
      },
      "source": [
        "##The data set has NaN values in categorical and nmerical features, the following function helps to fill NaN values"
      ]
    },
    {
      "cell_type": "code",
      "metadata": {
        "id": "n9sTxWFrebHh",
        "colab_type": "code",
        "outputId": "a0e65f3f-1e94-447d-ac27-51a7829bea57",
        "colab": {
          "base_uri": "https://localhost:8080/",
          "height": 35
        }
      },
      "source": [
        "#NaN values for categorical and numerical:\n",
        "from sklearn.base import TransformerMixin\n",
        "\n",
        "class DataFrameImputer(TransformerMixin):\n",
        "\n",
        "    def __init__(self):\n",
        "        \"\"\"Impute missing values.\n",
        "\n",
        "        Columns of dtype object are imputed with the most frequent value \n",
        "        in column.\n",
        "\n",
        "        Columns of other types are imputed with mean of column.\n",
        "\n",
        "        \"\"\"\n",
        "    def fit(self, X, y=None):\n",
        "\n",
        "        self.fill = pd.Series([X[c].value_counts().index[0]\n",
        "            if X[c].dtype == np.dtype('O') else X[c].mean() for c in X],\n",
        "            index=X.columns)\n",
        "\n",
        "        return self\n",
        "\n",
        "    def transform(self, X, y=None):\n",
        "        return X.fillna(self.fill)\n",
        "\n",
        "fraud_df_clean = DataFrameImputer().fit_transform(fraud_df)\n",
        "print(len(fraud_df_clean))\n"
      ],
      "execution_count": 3,
      "outputs": [
        {
          "output_type": "stream",
          "text": [
            "284807\n"
          ],
          "name": "stdout"
        }
      ]
    },
    {
      "cell_type": "markdown",
      "metadata": {
        "id": "bhHrHMrhguwm",
        "colab_type": "text"
      },
      "source": [
        "#Exploring data, numerical and categorical features"
      ]
    },
    {
      "cell_type": "code",
      "metadata": {
        "id": "7LVrQkhggYtu",
        "colab_type": "code",
        "outputId": "c5ecf711-13a0-4c53-ea9b-e311c4db1f89",
        "colab": {
          "base_uri": "https://localhost:8080/",
          "height": 144
        }
      },
      "source": [
        "CATEGORICAL_INPUT_FEATURES = ['V{}'.format(i) for i in range(30, 32)]\n",
        "ALL_FEATURES = list(fraud_df_clean)\n",
        "INPUT_FEATURES = ALL_FEATURES.copy()\n",
        "INPUT_FEATURES.remove('Class') #target\n",
        "INPUT_FEATURES.remove('V29') #seems not important\n",
        "print(INPUT_FEATURES)\n",
        "NUMERICAL_INPUT_FEATURES = [feature for feature in INPUT_FEATURES if feature not in CATEGORICAL_INPUT_FEATURES]\n",
        "print(NUMERICAL_INPUT_FEATURES)\n",
        "print(CATEGORICAL_INPUT_FEATURES)\n",
        "# get number of frauds and non-frauds\n",
        "fraud_df_clean.Class.value_counts()"
      ],
      "execution_count": 4,
      "outputs": [
        {
          "output_type": "stream",
          "text": [
            "['Unnamed: 0', 'Time', 'V1', 'V2', 'V3', 'V4', 'V5', 'V6', 'V7', 'V8', 'V9', 'V10', 'V11', 'V12', 'V13', 'V14', 'V15', 'V16', 'V17', 'V18', 'V19', 'V20', 'V21', 'V22', 'V23', 'V24', 'V25', 'V26', 'V27', 'V28', 'Amount', 'V30', 'V31']\n",
            "['Unnamed: 0', 'Time', 'V1', 'V2', 'V3', 'V4', 'V5', 'V6', 'V7', 'V8', 'V9', 'V10', 'V11', 'V12', 'V13', 'V14', 'V15', 'V16', 'V17', 'V18', 'V19', 'V20', 'V21', 'V22', 'V23', 'V24', 'V25', 'V26', 'V27', 'V28', 'Amount']\n",
            "['V30', 'V31']\n"
          ],
          "name": "stdout"
        },
        {
          "output_type": "execute_result",
          "data": {
            "text/plain": [
              "0    284315\n",
              "1       492\n",
              "Name: Class, dtype: int64"
            ]
          },
          "metadata": {
            "tags": []
          },
          "execution_count": 4
        }
      ]
    },
    {
      "cell_type": "markdown",
      "metadata": {
        "id": "LsVI2Xa9hoGN",
        "colab_type": "text"
      },
      "source": [
        "# Split data nito Test and Train "
      ]
    },
    {
      "cell_type": "code",
      "metadata": {
        "id": "OxPnWzILhtTz",
        "colab_type": "code",
        "outputId": "0cebb842-3f96-4eb0-fe00-181e12e8fa9d",
        "colab": {
          "base_uri": "https://localhost:8080/",
          "height": 124
        }
      },
      "source": [
        "#set a seed to generate a fix random choice\n",
        "SEED = 1333 \n",
        "#splitting data into train and test:\n",
        "df_train, df_test = train_test_split(fraud_df_clean, test_size=0.3, random_state=SEED)\n",
        "#explore the number normal and fraud data in train and test\n",
        "print('#of frauds in train : ',len(df_train[df_train.Class==1]))\n",
        "print('# of normals in train: ',len(df_train[df_train.Class==0]))\n",
        "print('#of frauds in test: ', len(df_test[df_test.Class==1]))\n",
        "print('#of frauds in test: ',len(df_test[df_test.Class==0]))\n",
        "\n",
        "#get features\n",
        "X_train= df_train.drop('Class',axis =1)\n",
        "X_test = df_test.drop('Class',axis =1)\n",
        "\n",
        "# get labels\n",
        "y_train =df_train.Class\n",
        "y_test =df_test.Class\n",
        "print(len(y_train))\n",
        "print(len(X_test))\n",
        "\n"
      ],
      "execution_count": 6,
      "outputs": [
        {
          "output_type": "stream",
          "text": [
            "#of frauds in train :  341\n",
            "# of normals in train:  199023\n",
            "#of frauds in test:  151\n",
            "#of frauds in test:  85292\n",
            "199364\n",
            "85443\n"
          ],
          "name": "stdout"
        }
      ]
    },
    {
      "cell_type": "markdown",
      "metadata": {
        "id": "-8e66BFWhS9R",
        "colab_type": "text"
      },
      "source": [
        "#Preprocessing categorical and numerical data\n",
        "* Encode categorical features V30, V31.\n",
        "* Cooncatenating encoded categorical and numerical data\n"
      ]
    },
    {
      "cell_type": "code",
      "metadata": {
        "id": "-VyAV5ZyhO6k",
        "colab_type": "code",
        "outputId": "d7ea93ca-54d6-45c6-edde-9a0073e1196a",
        "colab": {
          "base_uri": "https://localhost:8080/",
          "height": 90
        }
      },
      "source": [
        "# encode categorical attributes into a binary one-hot encoded representation in test data and train data\n",
        "def encode_cat_features(cat_cols, train_data,test_data):\n",
        "  train_encoded = pd.get_dummies(train_data[cat_cols], prefix_sep=\"__\", columns=cat_cols)\n",
        "  encoded_columns = list(train_encoded.columns[:])\n",
        "  print(encoded_columns)\n",
        "  cat_dummies = [col for col in train_encoded if \"__\" in col and col.split(\"__\")[0] in cat_cols]\n",
        "  test_encoded = pd.get_dummies(test_data[cat_cols], prefix_sep=\"__\", columns=cat_cols)\n",
        "  # Remove additional columns\n",
        "  for col in test_encoded.columns:\n",
        "    if (\"__\" in col) and (col.split(\"__\")[0] in cat_cols) and col not in cat_dummies:\n",
        "      print(\"Removing additional feature {}\".format(col))\n",
        "      test_encoded.drop(col, axis=1, inplace=True)\n",
        "  #add missing cols\n",
        "  for col in cat_dummies:\n",
        "    if col not in test_encoded.columns:\n",
        "      print(\"Adding missing feature {}\".format(col))\n",
        "      test_processed[col] = 0\n",
        "  test_encoded = test_encoded[encoded_columns]\n",
        "  return (train_encoded,test_encoded)\n",
        "#get encoded categorical data\n",
        "X_train_cat, X_test_cat = encode_cat_features(CATEGORICAL_INPUT_FEATURES,X_train, X_test)\n",
        "#get numerical data\n",
        "X_train_num = X_train[NUMERICAL_INPUT_FEATURES]\n",
        "X_test_num = X_test[NUMERICAL_INPUT_FEATURES]\n",
        "# concatenating numerical and categorical\n",
        "df_train= pd.concat([X_train_cat,X_train_num, y_train], axis = 1)\n",
        "df_test = pd.concat([X_test_cat, X_test_num, y_test], axis = 1)\n",
        "\n",
        "#we can sample train and test data by fraction of data\n",
        "#we choose frac = 1 for the last run\n",
        "df_train_rd = df_train.sample(frac =1)\n",
        "df_test_rd= df_test.sample(frac = 1)\n",
        "\n",
        "print(len(df_train_rd))\n",
        "print(len(df_test_rd))"
      ],
      "execution_count": 7,
      "outputs": [
        {
          "output_type": "stream",
          "text": [
            "['V30__Abacus Federal Savings Bank', 'V30__Access Federal Credit Union', 'V30__Adirondack Bank', 'V30__Adirondack Trust Company, The', 'V30__Advantage Federal C.U.', 'V30__Alco Federal Credit Union', 'V30__Alden State Bank', 'V30__Alma Bank', 'V30__Alternatives Federal Credit Union', 'V30__Amalgamated Bank', 'V30__Amerasia Bank', 'V30__AmeriCU Credit Union', 'V30__American Broadcast Employees Federal Credit Union', 'V30__Apple Bank For Savings', 'V30__Atlas Bank', 'V30__Ballston Spa National Bank', 'V30__Banco Popular North America', 'V30__Bank of Akron', 'V30__Bank of America N.A. GA1-006-15-40', 'V30__Bank of Castile, The', 'V30__Bank of Cattaraugus', 'V30__Bank of Holland', 'V30__Bank of Hope', 'V30__Bank of Millbrook', 'V30__Bank of Richmondville', 'V30__Bank of Utica', 'V30__BankUnited, NA', 'V30__Bay Ridge Federal Credit Union', 'V30__Berkshire Bank (Pittsfield, MA)', 'V30__Berkshire Bank, The', 'V30__Bethpage Federal Credit Union', 'V30__Bridgehampton National Bank, The', 'V30__Buffalo Metropolitan Federal CU', 'V30__Buffalo Service Credit Union', 'V30__CFCU Community Credit Union', 'V30__CTBC Bank Corp. (USA)', 'V30__Canandaigua Federal Credit Union', 'V30__Canandaigua National Corporation', 'V30__Capital Communications Federal CU', 'V30__Capital One, N.A.', 'V30__Carthage FS & LA', 'V30__Carver Federal Savings Bank', 'V30__Cathay Bank', 'V30__Catskill Hudson Bank', 'V30__Cattaraugus County Bank', 'V30__Cayuga Lake National Bank', 'V30__Champlain National Bank', 'V30__Chemung Canal Trust Company', 'V30__Citibank N. A.', 'V30__Citizens & Northern Bank', 'V30__Citizens Bank', 'V30__City National Bank', 'V30__Cohoes City Employees Federal Credit Union', 'V30__Commerce Bank, N.A.', 'V30__Community Bank, N.A.', 'V30__Compass Federal Credit Union', 'V30__Cooperative Federal', 'V30__Core Federal Credit Union', 'V30__Cornerstone Community FCU', 'V30__Corning Federal Credit Union', 'V30__Country Bank', 'V30__Cross County Federal Savings Bank', 'V30__Dannemora Federal Credit Union', 'V30__Delaware National Bank of Delhi, The', 'V30__Delta Employees Credit Union', 'V30__Dime Community Bank', 'V30__ESL Federal Credit Union', 'V30__East West Bank', 'V30__Eastbank, NA', 'V30__Educational and Governmental Federal CU', 'V30__Elmira Savings & Loan FA', 'V30__Elmira Savings Bank, FSB', 'V30__Emigrant Savings Bank - Manhattan', 'V30__Emigrant Savings Bank-Bronx/Westchester', 'V30__Empire Federal Credit Union', 'V30__Empire National Bank', 'V30__Empire State Bank, N.A.', 'V30__Empower Federal Credit Union', 'V30__Entertainment Industries Federal Credit Union', 'V30__Evans National Bank', 'V30__Ever$Green Federal Credit Union', 'V30__Excelsior Federal Credit Union', 'V30__Fairport Savings Bank', 'V30__Family First Federal Credit Union', 'V30__Finger Lakes Federal Credit Union', 'V30__Finger Lakes Health Care Federal Credit Union', 'V30__First American International Bank', 'V30__First Central Savings Bank', 'V30__First Heritage Federal Credit Union', 'V30__First National Bank of Dryden, The', 'V30__First National Bank of Groton', 'V30__First National Bank of Long Island', 'V30__First National Bank of Scotia', 'V30__First New York, FCU', 'V30__First Republic Bank', 'V30__First Source Federal Credit Union', 'V30__Five Star Bank', 'V30__Flushing Savings Bank, FSB', 'V30__Fulton Savings Bank', 'V30__G.P.O Federal Credit Union', 'V30__GHS Federal Credit Union', 'V30__Geddes FS & LA', 'V30__Generations Bank', 'V30__Genesee Regional Bank', 'V30__Genesee Valley FCU', 'V30__Glens Falls National Bank & Trust Company', 'V30__Global Bank', 'V30__Gold Coast Bank', 'V30__Gouverneur Savings & Loan Association', 'V30__Greater Hudson Bank', 'V30__HSBC Bank USA, National Association', 'V30__Habib American Bank', 'V30__Hanover Community Bank', 'V30__Horizons Federal Credit Union', 'V30__Hudson Heritage Federal Credit Union', 'V30__Hudson River Community Credit Union', 'V30__Hudson United Bank', 'V30__Hudson Valley Federal Credit Union', 'V30__Industrial and Commercial Bank of China (USA) NA', 'V30__Investors Bank', 'V30__Island Federal Credit Union', 'V30__JPMorgan Chase Bank, National Association', 'V30__Jeff Bank', 'V30__KEB Hana Bank USA, NA', 'V30__Key Bank, National Association', 'V30__Lake Shore Savings Bank', 'V30__Lakeland Bank', 'V30__Leatherstocking Region Federal Credit Union', 'V30__Lyons National Bank', 'V30__M.Y. Safra Bank, FSB', 'V30__Mahopac Bank', 'V30__Manufacturers and Traders Trust Company', 'V30__Maple City Savings Bank', 'V30__Maspeth Federal Savings & Loan', 'V30__Massena Savings & Loan Association', 'V30__Medina Savings and Loan Association', 'V30__Meridia Community Credit Union', 'V30__Metropolitan National Bank', 'V30__Mid-Hudson Valley Federal Credit Union', 'V30__Mony Federal Credit Union', 'V30__Municipal Credit Union', 'V30__NBT Bank, National Association', 'V30__Nassau Educators Federal Credit Union', 'V30__Nassau Financial Federal Credit Union', 'V30__National Bank of Coxsackie', 'V30__National Union Bank of Kinderhook', 'V30__Nestegg Federal Credit Union', 'V30__New York Commercial Bank', 'V30__New York Community Bank', 'V30__New York National Bank', 'V30__Newbank', \"V30__Niagara's Choice Federal Credit Union\", 'V30__North Country Savings Bank, The', 'V30__North East Community Bank', 'V30__Northern Federal Credit Union', 'V30__Northfield Bank', 'V30__Northwest Savings Bank', 'V30__Olean Area Federal Credit Union', 'V30__Orange Bank & Trust Company', 'V30__PCSB Bank', 'V30__Palisades Federal Credit Union', 'V30__Pathfinder Bank', 'V30__Patriot Bank, N.A', 'V30__Pentagon Federal Credit Union', \"V30__People's United Bank\", 'V30__Peoples Alliance Federal Credit Union', 'V30__Pepsico Employees Federal Credit Union', 'V30__Pioneer Savings Bank', 'V30__Pittsford Federal Credit Uniion', 'V30__Polish & Slavic Federal Credit Union', 'V30__Ponce De Leon Federal Bank', 'V30__Putnam County National Bank', 'V30__Quontic Bank', 'V30__Reliant Community Credit Union', 'V30__Rhinebeck Savings Bank', 'V30__Ridgewood Savings Bank', 'V30__Riverside Federal Credit Union', 'V30__Rochester & Monroe Co. Employees Federal Credit Union', 'V30__Rome Savings Bank, FSB', 'V30__Rome Teachers Federal Credit Union', 'V30__Rondout Savings Bank', 'V30__Salisbury Bank and Trust Company', 'V30__Santander Bank', 'V30__Saratoga National Bank & Trust Company', 'V30__Savannah Bank N.A.', 'V30__Savings Bank of the Finger Lakes, FSB', 'V30__Sawyer Savings Bank', 'V30__School Employees of CNY Federal Credit Union', 'V30__Sea Comm Federal Credit Union', 'V30__Seneca Federal Savings and Loan Assoc.', 'V30__ServU Federal Credit Union', 'V30__Shinhan Bank America', 'V30__Sidney Federal Credit Union', 'V30__Signature Bank', 'V30__Skyline Federal Credit Union', 'V30__Solutions Credit Union', 'V30__Solvay Bank', 'V30__Sperry Associates Federal Credit Union', 'V30__State Employees Federal Credit Union', 'V30__Sterling National Bank of New York', 'V30__Steuben Trust Company', 'V30__Suffolk Federal Credit Union', 'V30__Suma Yonker Federal Credit Union', 'V30__Summit Bank', 'V30__Summit Federal Credit Union, The', 'V30__Sunmark Federal Credit Union', 'V30__Sunnyside FS & LA of Irvington', 'V30__Sussex Bank', 'V30__Syracuse Federal Credit Union', 'V30__Syracuse Fire Department Employees Federal Credit Union', 'V30__TD Bank N.A.', 'V30__TEG Federal Credit Union', 'V30__TRI-Lakes Federal Credit Union', 'V30__Teachers Federal Credit Union', 'V30__The Bank of Greene County', 'V30__Ticonderoga Federal Credit Union', 'V30__Tioga State Bank', 'V30__Tompkins Trust Company', 'V30__Trustco Bank N.A. CTF', 'V30__UFirst Federal Credit Union', 'V30__UNISTAR Federal Credit Union', 'V30__USAlliance Financial', 'V30__USNY Bank', 'V30__Ulster Federal Credit Union', 'V30__Ulster Savings Bank', 'V30__United Orient Bank', 'V30__Upstate National Bank', 'V30__Valley National Bank', 'V30__Victory State Bank', 'V30__Visions Federal Credit Union', 'V30__W.C.T.A Federal Credit Union', 'V30__WSB Municipal Bank', 'V30__Walden Savings Bank', 'V30__Wallkill Valley FS & LA', 'V30__Watertown Savings Bank', 'V30__Watervliet Arsenal Federal Credit Union', 'V30__Wayne Bank', 'V30__Webster Bank', 'V30__Wells Fargo ATM', 'V30__Westchester Bank, The', 'V30__Western Division Federal Credit Union', 'V30__Western New York Federal Credit Union', 'V30__Westside Community Federal Credit Union', 'V30__Woori America Bank', 'V30__Xceed Financial Credit Union', 'V31__Albany', 'V31__Allegany', 'V31__Bronx', 'V31__Broome', 'V31__Cattaraugus', 'V31__Cayuga', 'V31__Chautauqua', 'V31__Chemung', 'V31__Chenango', 'V31__Clinton', 'V31__Columbia', 'V31__Cortland', 'V31__Delaware', 'V31__Dutchess', 'V31__Erie', 'V31__Essex', 'V31__Franklin', 'V31__Fulton', 'V31__Genesee', 'V31__Greene', 'V31__Hamilton', 'V31__Herkimer', 'V31__Jefferson', 'V31__Kings', 'V31__Lewis', 'V31__Livingston', 'V31__Madison', 'V31__Monroe', 'V31__Montogomery', 'V31__Nassau', 'V31__New York', 'V31__Niagara', 'V31__Oneida', 'V31__Onondaga', 'V31__Ontario', 'V31__Orange', 'V31__Orleans', 'V31__Oswego', 'V31__Otsego', 'V31__Putnam', 'V31__Queens', 'V31__Rensselaer', 'V31__Richmond', 'V31__Rockland', 'V31__Saratoga', 'V31__Schenectady', 'V31__Schoharie', 'V31__Schuyler', 'V31__Seneca', 'V31__St. Lawrence', 'V31__Steuben', 'V31__Suffolk', 'V31__Sullivan', 'V31__Tioga', 'V31__Tompkins', 'V31__Ulster', 'V31__Warren', 'V31__Washington', 'V31__Wayne', 'V31__Westchester', 'V31__Wyoming', 'V31__Yates']\n",
            "199364\n",
            "85443\n"
          ],
          "name": "stdout"
        }
      ]
    },
    {
      "cell_type": "markdown",
      "metadata": {
        "id": "3eUjZiYy_3ia",
        "colab_type": "text"
      },
      "source": [
        "# Deal with the imbalance data\n",
        "* we use SMOTE technic to balance data (Synthetic Minority Over-sampling Technique )"
      ]
    },
    {
      "cell_type": "code",
      "metadata": {
        "id": "qWVPcHQe0Ovd",
        "colab_type": "code",
        "colab": {
          "base_uri": "https://localhost:8080/",
          "height": 144
        },
        "outputId": "9556228e-2bd0-460c-a34c-66aa1a21674b"
      },
      "source": [
        "from imblearn.over_sampling import SMOTE\n",
        "# SMOTE\n",
        "X_train_rd =df_train_rd.drop('Class',axis = 1)\n",
        "y_train_rd=df_train_rd.Class.values\n",
        "sm = SMOTE(random_state=42)\n",
        "X_train_res, y_train_res = sm.fit_sample(X_train_rd, y_train_rd)\n",
        "#no over sampling on test data\n",
        "X_test_rd =df_test_rd.drop('Class',axis = 1)\n",
        "y_test_rd=df_test_rd.Class.values\n",
        "cols = X_test_rd.columns\n",
        "# converting trai data to a data frame with the original column names\n",
        "X_train_res = pd.DataFrame(X_train_res, columns= cols)"
      ],
      "execution_count": 8,
      "outputs": [
        {
          "output_type": "stream",
          "text": [
            "/usr/local/lib/python3.6/dist-packages/sklearn/externals/six.py:31: FutureWarning: The module is deprecated in version 0.21 and will be removed in version 0.23 since we've dropped support for Python 2.7. Please rely on the official version of six (https://pypi.org/project/six/).\n",
            "  \"(https://pypi.org/project/six/).\", FutureWarning)\n",
            "/usr/local/lib/python3.6/dist-packages/sklearn/utils/deprecation.py:144: FutureWarning: The sklearn.neighbors.base module is  deprecated in version 0.22 and will be removed in version 0.24. The corresponding classes / functions should instead be imported from sklearn.neighbors. Anything that cannot be imported from sklearn.neighbors is now part of the private API.\n",
            "  warnings.warn(message, FutureWarning)\n",
            "/usr/local/lib/python3.6/dist-packages/sklearn/utils/deprecation.py:87: FutureWarning: Function safe_indexing is deprecated; safe_indexing is deprecated in version 0.22 and will be removed in version 0.24.\n",
            "  warnings.warn(msg, category=FutureWarning)\n"
          ],
          "name": "stderr"
        }
      ]
    },
    {
      "cell_type": "markdown",
      "metadata": {
        "id": "mfVIxPkWGboJ",
        "colab_type": "text"
      },
      "source": [
        "#Performing XGboost Classifier"
      ]
    },
    {
      "cell_type": "code",
      "metadata": {
        "id": "NqxgrUUdBg3b",
        "colab_type": "code",
        "colab": {
          "base_uri": "https://localhost:8080/",
          "height": 1000
        },
        "outputId": "2bbe63b3-e154-4058-fca8-3a24a3530ba7"
      },
      "source": [
        "#Implementing XG-boost #max_depth= 10\n",
        "clf = xgb.XGBClassifier(missing=9999999999,\n",
        "                max_depth = 10,\n",
        "                n_estimators=1000,\n",
        "                learning_rate=0.1,\n",
        "                nthread=4,\n",
        "                subsample=1.0,\n",
        "                colsample_bytree=0.5,\n",
        "                min_child_weight = 3,\n",
        "                seed=1301)\n",
        "\n",
        "#fit classifier with eval_metric=AUC_PR, early stopping if the result does not improve after 30 consecutive iteration\n",
        "clf.fit(X_train_res, y_train_res, early_stopping_rounds=30, eval_metric=\"aucpr\",\n",
        "        eval_set=[(X_train_res, y_train_res),(X_test_rd, y_test_rd)])"
      ],
      "execution_count": 10,
      "outputs": [
        {
          "output_type": "stream",
          "text": [
            "[0]\tvalidation_0-aucpr:0.994923\tvalidation_1-aucpr:0.598287\n",
            "Multiple eval metrics have been passed: 'validation_1-aucpr' will be used for early stopping.\n",
            "\n",
            "Will train until validation_1-aucpr hasn't improved in 30 rounds.\n",
            "[1]\tvalidation_0-aucpr:0.998882\tvalidation_1-aucpr:0.666558\n",
            "[2]\tvalidation_0-aucpr:0.998962\tvalidation_1-aucpr:0.677061\n",
            "[3]\tvalidation_0-aucpr:0.999371\tvalidation_1-aucpr:0.697721\n",
            "[4]\tvalidation_0-aucpr:0.999456\tvalidation_1-aucpr:0.705365\n",
            "[5]\tvalidation_0-aucpr:0.999516\tvalidation_1-aucpr:0.704929\n",
            "[6]\tvalidation_0-aucpr:0.999645\tvalidation_1-aucpr:0.713109\n",
            "[7]\tvalidation_0-aucpr:0.999727\tvalidation_1-aucpr:0.720772\n",
            "[8]\tvalidation_0-aucpr:0.999762\tvalidation_1-aucpr:0.766784\n",
            "[9]\tvalidation_0-aucpr:0.999765\tvalidation_1-aucpr:0.759941\n",
            "[10]\tvalidation_0-aucpr:0.999791\tvalidation_1-aucpr:0.760337\n",
            "[11]\tvalidation_0-aucpr:0.999799\tvalidation_1-aucpr:0.761962\n",
            "[12]\tvalidation_0-aucpr:0.9998\tvalidation_1-aucpr:0.761076\n",
            "[13]\tvalidation_0-aucpr:0.999801\tvalidation_1-aucpr:0.760166\n",
            "[14]\tvalidation_0-aucpr:0.999803\tvalidation_1-aucpr:0.759334\n",
            "[15]\tvalidation_0-aucpr:0.999803\tvalidation_1-aucpr:0.758801\n",
            "[16]\tvalidation_0-aucpr:0.999803\tvalidation_1-aucpr:0.758892\n",
            "[17]\tvalidation_0-aucpr:0.999805\tvalidation_1-aucpr:0.75886\n",
            "[18]\tvalidation_0-aucpr:0.99983\tvalidation_1-aucpr:0.786024\n",
            "[19]\tvalidation_0-aucpr:0.999836\tvalidation_1-aucpr:0.801935\n",
            "[20]\tvalidation_0-aucpr:0.999835\tvalidation_1-aucpr:0.802052\n",
            "[21]\tvalidation_0-aucpr:0.99985\tvalidation_1-aucpr:0.800079\n",
            "[22]\tvalidation_0-aucpr:0.999851\tvalidation_1-aucpr:0.8009\n",
            "[23]\tvalidation_0-aucpr:0.999851\tvalidation_1-aucpr:0.802197\n",
            "[24]\tvalidation_0-aucpr:0.999851\tvalidation_1-aucpr:0.802368\n",
            "[25]\tvalidation_0-aucpr:0.99987\tvalidation_1-aucpr:0.801094\n",
            "[26]\tvalidation_0-aucpr:0.999877\tvalidation_1-aucpr:0.798908\n",
            "[27]\tvalidation_0-aucpr:0.999902\tvalidation_1-aucpr:0.79759\n",
            "[28]\tvalidation_0-aucpr:0.999906\tvalidation_1-aucpr:0.796898\n",
            "[29]\tvalidation_0-aucpr:0.999905\tvalidation_1-aucpr:0.796797\n",
            "[30]\tvalidation_0-aucpr:0.999907\tvalidation_1-aucpr:0.796816\n",
            "[31]\tvalidation_0-aucpr:0.999912\tvalidation_1-aucpr:0.79798\n",
            "[32]\tvalidation_0-aucpr:0.999912\tvalidation_1-aucpr:0.798027\n",
            "[33]\tvalidation_0-aucpr:0.999912\tvalidation_1-aucpr:0.797709\n",
            "[34]\tvalidation_0-aucpr:0.999919\tvalidation_1-aucpr:0.796546\n",
            "[35]\tvalidation_0-aucpr:0.99992\tvalidation_1-aucpr:0.796059\n",
            "[36]\tvalidation_0-aucpr:0.999927\tvalidation_1-aucpr:0.795452\n",
            "[37]\tvalidation_0-aucpr:0.999933\tvalidation_1-aucpr:0.791369\n",
            "[38]\tvalidation_0-aucpr:0.999977\tvalidation_1-aucpr:0.814198\n",
            "[39]\tvalidation_0-aucpr:0.999979\tvalidation_1-aucpr:0.812592\n",
            "[40]\tvalidation_0-aucpr:0.999979\tvalidation_1-aucpr:0.812428\n",
            "[41]\tvalidation_0-aucpr:0.999986\tvalidation_1-aucpr:0.823938\n",
            "[42]\tvalidation_0-aucpr:0.999986\tvalidation_1-aucpr:0.822274\n",
            "[43]\tvalidation_0-aucpr:0.999988\tvalidation_1-aucpr:0.822859\n",
            "[44]\tvalidation_0-aucpr:0.999989\tvalidation_1-aucpr:0.823176\n",
            "[45]\tvalidation_0-aucpr:0.999989\tvalidation_1-aucpr:0.821991\n",
            "[46]\tvalidation_0-aucpr:0.999989\tvalidation_1-aucpr:0.821248\n",
            "[47]\tvalidation_0-aucpr:0.999989\tvalidation_1-aucpr:0.82155\n",
            "[48]\tvalidation_0-aucpr:0.999991\tvalidation_1-aucpr:0.824567\n",
            "[49]\tvalidation_0-aucpr:0.999991\tvalidation_1-aucpr:0.823711\n",
            "[50]\tvalidation_0-aucpr:0.999992\tvalidation_1-aucpr:0.823884\n",
            "[51]\tvalidation_0-aucpr:0.999994\tvalidation_1-aucpr:0.82582\n",
            "[52]\tvalidation_0-aucpr:0.999994\tvalidation_1-aucpr:0.826405\n",
            "[53]\tvalidation_0-aucpr:0.999995\tvalidation_1-aucpr:0.825986\n",
            "[54]\tvalidation_0-aucpr:0.999995\tvalidation_1-aucpr:0.825088\n",
            "[55]\tvalidation_0-aucpr:0.999995\tvalidation_1-aucpr:0.825391\n",
            "[56]\tvalidation_0-aucpr:0.999995\tvalidation_1-aucpr:0.825796\n",
            "[57]\tvalidation_0-aucpr:0.999995\tvalidation_1-aucpr:0.826524\n",
            "[58]\tvalidation_0-aucpr:0.999996\tvalidation_1-aucpr:0.826482\n",
            "[59]\tvalidation_0-aucpr:0.999996\tvalidation_1-aucpr:0.825759\n",
            "[60]\tvalidation_0-aucpr:0.999996\tvalidation_1-aucpr:0.824114\n",
            "[61]\tvalidation_0-aucpr:0.999996\tvalidation_1-aucpr:0.824878\n",
            "[62]\tvalidation_0-aucpr:0.999997\tvalidation_1-aucpr:0.830583\n",
            "[63]\tvalidation_0-aucpr:0.999997\tvalidation_1-aucpr:0.831668\n",
            "[64]\tvalidation_0-aucpr:0.999997\tvalidation_1-aucpr:0.830956\n",
            "[65]\tvalidation_0-aucpr:0.999997\tvalidation_1-aucpr:0.831357\n",
            "[66]\tvalidation_0-aucpr:0.999998\tvalidation_1-aucpr:0.82896\n",
            "[67]\tvalidation_0-aucpr:0.999998\tvalidation_1-aucpr:0.829505\n",
            "[68]\tvalidation_0-aucpr:0.999998\tvalidation_1-aucpr:0.829496\n",
            "[69]\tvalidation_0-aucpr:0.999998\tvalidation_1-aucpr:0.830505\n",
            "[70]\tvalidation_0-aucpr:0.999998\tvalidation_1-aucpr:0.830194\n",
            "[71]\tvalidation_0-aucpr:0.999999\tvalidation_1-aucpr:0.831355\n",
            "[72]\tvalidation_0-aucpr:0.999999\tvalidation_1-aucpr:0.831625\n",
            "[73]\tvalidation_0-aucpr:0.999999\tvalidation_1-aucpr:0.831054\n",
            "[74]\tvalidation_0-aucpr:0.999999\tvalidation_1-aucpr:0.831219\n",
            "[75]\tvalidation_0-aucpr:0.999999\tvalidation_1-aucpr:0.830001\n",
            "[76]\tvalidation_0-aucpr:0.999999\tvalidation_1-aucpr:0.830942\n",
            "[77]\tvalidation_0-aucpr:0.999999\tvalidation_1-aucpr:0.830597\n",
            "[78]\tvalidation_0-aucpr:0.999999\tvalidation_1-aucpr:0.830558\n",
            "[79]\tvalidation_0-aucpr:0.999999\tvalidation_1-aucpr:0.830792\n",
            "[80]\tvalidation_0-aucpr:0.999999\tvalidation_1-aucpr:0.831526\n",
            "[81]\tvalidation_0-aucpr:0.999999\tvalidation_1-aucpr:0.831951\n",
            "[82]\tvalidation_0-aucpr:1\tvalidation_1-aucpr:0.832282\n",
            "[83]\tvalidation_0-aucpr:1\tvalidation_1-aucpr:0.832799\n",
            "[84]\tvalidation_0-aucpr:1\tvalidation_1-aucpr:0.834126\n",
            "[85]\tvalidation_0-aucpr:1\tvalidation_1-aucpr:0.833295\n",
            "[86]\tvalidation_0-aucpr:1\tvalidation_1-aucpr:0.833853\n",
            "[87]\tvalidation_0-aucpr:1\tvalidation_1-aucpr:0.833429\n",
            "[88]\tvalidation_0-aucpr:1\tvalidation_1-aucpr:0.833943\n",
            "[89]\tvalidation_0-aucpr:1\tvalidation_1-aucpr:0.833022\n",
            "[90]\tvalidation_0-aucpr:1\tvalidation_1-aucpr:0.832692\n",
            "[91]\tvalidation_0-aucpr:1\tvalidation_1-aucpr:0.834982\n",
            "[92]\tvalidation_0-aucpr:1\tvalidation_1-aucpr:0.835816\n",
            "[93]\tvalidation_0-aucpr:1\tvalidation_1-aucpr:0.836082\n",
            "[94]\tvalidation_0-aucpr:1\tvalidation_1-aucpr:0.836373\n",
            "[95]\tvalidation_0-aucpr:1\tvalidation_1-aucpr:0.836214\n",
            "[96]\tvalidation_0-aucpr:1\tvalidation_1-aucpr:0.837057\n",
            "[97]\tvalidation_0-aucpr:1\tvalidation_1-aucpr:0.837903\n",
            "[98]\tvalidation_0-aucpr:1\tvalidation_1-aucpr:0.838049\n",
            "[99]\tvalidation_0-aucpr:1\tvalidation_1-aucpr:0.83794\n",
            "[100]\tvalidation_0-aucpr:1\tvalidation_1-aucpr:0.837817\n",
            "[101]\tvalidation_0-aucpr:1\tvalidation_1-aucpr:0.838146\n",
            "[102]\tvalidation_0-aucpr:1\tvalidation_1-aucpr:0.838309\n",
            "[103]\tvalidation_0-aucpr:1\tvalidation_1-aucpr:0.83832\n",
            "[104]\tvalidation_0-aucpr:1\tvalidation_1-aucpr:0.838499\n",
            "[105]\tvalidation_0-aucpr:1\tvalidation_1-aucpr:0.838965\n",
            "[106]\tvalidation_0-aucpr:1\tvalidation_1-aucpr:0.839043\n",
            "[107]\tvalidation_0-aucpr:1\tvalidation_1-aucpr:0.83966\n",
            "[108]\tvalidation_0-aucpr:1\tvalidation_1-aucpr:0.839624\n",
            "[109]\tvalidation_0-aucpr:1\tvalidation_1-aucpr:0.839545\n",
            "[110]\tvalidation_0-aucpr:1\tvalidation_1-aucpr:0.839365\n",
            "[111]\tvalidation_0-aucpr:1\tvalidation_1-aucpr:0.839937\n",
            "[112]\tvalidation_0-aucpr:1\tvalidation_1-aucpr:0.84\n",
            "[113]\tvalidation_0-aucpr:1\tvalidation_1-aucpr:0.840626\n",
            "[114]\tvalidation_0-aucpr:1\tvalidation_1-aucpr:0.841045\n",
            "[115]\tvalidation_0-aucpr:1\tvalidation_1-aucpr:0.841581\n",
            "[116]\tvalidation_0-aucpr:1\tvalidation_1-aucpr:0.841718\n",
            "[117]\tvalidation_0-aucpr:1\tvalidation_1-aucpr:0.841957\n",
            "[118]\tvalidation_0-aucpr:1\tvalidation_1-aucpr:0.842691\n",
            "[119]\tvalidation_0-aucpr:1\tvalidation_1-aucpr:0.842487\n",
            "[120]\tvalidation_0-aucpr:1\tvalidation_1-aucpr:0.843326\n",
            "[121]\tvalidation_0-aucpr:1\tvalidation_1-aucpr:0.843646\n",
            "[122]\tvalidation_0-aucpr:1\tvalidation_1-aucpr:0.843693\n",
            "[123]\tvalidation_0-aucpr:1\tvalidation_1-aucpr:0.843445\n",
            "[124]\tvalidation_0-aucpr:1\tvalidation_1-aucpr:0.843426\n",
            "[125]\tvalidation_0-aucpr:1\tvalidation_1-aucpr:0.843492\n",
            "[126]\tvalidation_0-aucpr:1\tvalidation_1-aucpr:0.843348\n",
            "[127]\tvalidation_0-aucpr:1\tvalidation_1-aucpr:0.844281\n",
            "[128]\tvalidation_0-aucpr:1\tvalidation_1-aucpr:0.843913\n",
            "[129]\tvalidation_0-aucpr:1\tvalidation_1-aucpr:0.843825\n",
            "[130]\tvalidation_0-aucpr:1\tvalidation_1-aucpr:0.844111\n",
            "[131]\tvalidation_0-aucpr:1\tvalidation_1-aucpr:0.844194\n",
            "[132]\tvalidation_0-aucpr:1\tvalidation_1-aucpr:0.844415\n",
            "[133]\tvalidation_0-aucpr:1\tvalidation_1-aucpr:0.84489\n",
            "[134]\tvalidation_0-aucpr:1\tvalidation_1-aucpr:0.845285\n",
            "[135]\tvalidation_0-aucpr:1\tvalidation_1-aucpr:0.845433\n",
            "[136]\tvalidation_0-aucpr:1\tvalidation_1-aucpr:0.845482\n",
            "[137]\tvalidation_0-aucpr:1\tvalidation_1-aucpr:0.845206\n",
            "[138]\tvalidation_0-aucpr:1\tvalidation_1-aucpr:0.845251\n",
            "[139]\tvalidation_0-aucpr:1\tvalidation_1-aucpr:0.845285\n",
            "[140]\tvalidation_0-aucpr:1\tvalidation_1-aucpr:0.845262\n",
            "[141]\tvalidation_0-aucpr:1\tvalidation_1-aucpr:0.844964\n",
            "[142]\tvalidation_0-aucpr:1\tvalidation_1-aucpr:0.844325\n",
            "[143]\tvalidation_0-aucpr:1\tvalidation_1-aucpr:0.844132\n",
            "[144]\tvalidation_0-aucpr:1\tvalidation_1-aucpr:0.844884\n",
            "[145]\tvalidation_0-aucpr:1\tvalidation_1-aucpr:0.844805\n",
            "[146]\tvalidation_0-aucpr:1\tvalidation_1-aucpr:0.844939\n",
            "[147]\tvalidation_0-aucpr:1\tvalidation_1-aucpr:0.845174\n",
            "[148]\tvalidation_0-aucpr:1\tvalidation_1-aucpr:0.845191\n",
            "[149]\tvalidation_0-aucpr:1\tvalidation_1-aucpr:0.845157\n",
            "[150]\tvalidation_0-aucpr:1\tvalidation_1-aucpr:0.84516\n",
            "[151]\tvalidation_0-aucpr:1\tvalidation_1-aucpr:0.845132\n",
            "[152]\tvalidation_0-aucpr:1\tvalidation_1-aucpr:0.845286\n",
            "[153]\tvalidation_0-aucpr:1\tvalidation_1-aucpr:0.845014\n",
            "[154]\tvalidation_0-aucpr:1\tvalidation_1-aucpr:0.845001\n",
            "[155]\tvalidation_0-aucpr:1\tvalidation_1-aucpr:0.845136\n",
            "[156]\tvalidation_0-aucpr:1\tvalidation_1-aucpr:0.84484\n",
            "[157]\tvalidation_0-aucpr:1\tvalidation_1-aucpr:0.845204\n",
            "[158]\tvalidation_0-aucpr:1\tvalidation_1-aucpr:0.84509\n",
            "[159]\tvalidation_0-aucpr:1\tvalidation_1-aucpr:0.845\n",
            "[160]\tvalidation_0-aucpr:1\tvalidation_1-aucpr:0.844941\n",
            "[161]\tvalidation_0-aucpr:1\tvalidation_1-aucpr:0.845071\n",
            "[162]\tvalidation_0-aucpr:1\tvalidation_1-aucpr:0.84504\n",
            "[163]\tvalidation_0-aucpr:1\tvalidation_1-aucpr:0.844811\n",
            "[164]\tvalidation_0-aucpr:1\tvalidation_1-aucpr:0.844948\n",
            "[165]\tvalidation_0-aucpr:1\tvalidation_1-aucpr:0.845086\n",
            "[166]\tvalidation_0-aucpr:1\tvalidation_1-aucpr:0.845374\n",
            "Stopping. Best iteration:\n",
            "[136]\tvalidation_0-aucpr:1\tvalidation_1-aucpr:0.845482\n",
            "\n"
          ],
          "name": "stdout"
        },
        {
          "output_type": "execute_result",
          "data": {
            "text/plain": [
              "XGBClassifier(base_score=0.5, booster='gbtree', colsample_bylevel=1,\n",
              "              colsample_bynode=1, colsample_bytree=0.5, gamma=0,\n",
              "              learning_rate=0.1, max_delta_step=0, max_depth=10,\n",
              "              min_child_weight=3, missing=9999999999, n_estimators=1000,\n",
              "              n_jobs=1, nthread=4, objective='binary:logistic', random_state=0,\n",
              "              reg_alpha=0, reg_lambda=1, scale_pos_weight=1, seed=1301,\n",
              "              silent=None, subsample=1.0, verbosity=1)"
            ]
          },
          "metadata": {
            "tags": []
          },
          "execution_count": 10
        }
      ]
    },
    {
      "cell_type": "markdown",
      "metadata": {
        "id": "hQJxkjuxpjPb",
        "colab_type": "text"
      },
      "source": [
        "#Display results"
      ]
    },
    {
      "cell_type": "code",
      "metadata": {
        "id": "QQedY0-5pIci",
        "colab_type": "code",
        "colab": {
          "base_uri": "https://localhost:8080/",
          "height": 212
        },
        "outputId": "2ab9717b-c0f4-40a5-f063-e3925ebddbcf"
      },
      "source": [
        "#get AUC and AUC_PR on test data\n",
        "print('Overall AUC TEST:', roc_auc_score(y_test_rd, clf.predict(X_test_rd, ntree_limit=clf.best_iteration))) \t\n",
        "print('Overall AUC PR TEST:', average_precision_score(y_test_rd, clf.predict(X_test_rd, ntree_limit=clf.best_iteration))) \n",
        "# get precision and recall for each class\n",
        "print (classification_report(y_test_rd, clf.predict(X_test_rd)))"
      ],
      "execution_count": 11,
      "outputs": [
        {
          "output_type": "stream",
          "text": [
            "Overall AUC TEST: 0.9171012987561546\n",
            "Overall AUC PR TEST: 0.7204232286656621\n",
            "              precision    recall  f1-score   support\n",
            "\n",
            "           0       1.00      1.00      1.00     85292\n",
            "           1       0.87      0.83      0.85       151\n",
            "\n",
            "    accuracy                           1.00     85443\n",
            "   macro avg       0.93      0.92      0.93     85443\n",
            "weighted avg       1.00      1.00      1.00     85443\n",
            "\n"
          ],
          "name": "stdout"
        }
      ]
    },
    {
      "cell_type": "markdown",
      "metadata": {
        "id": "74_D-Ogzpn2o",
        "colab_type": "text"
      },
      "source": [
        "#Plotting AUC (Area under curve)"
      ]
    },
    {
      "cell_type": "code",
      "metadata": {
        "id": "UC7fMrqcDREP",
        "colab_type": "code",
        "colab": {}
      },
      "source": [
        "y_pred =\n",
        "fpr, tpr, thresholds = roc_curve(y_test_rd, y_pred[:,1])\n",
        "def plot_roc_curve(fpr, tpr,auc):\n",
        "    plt.plot(fpr, tpr, color='orange', label=\"xgb_pca_lda_fs, auc=\" + str(auc))\n",
        "    plt.plot([0, 1], [0, 1], color='darkblue', linestyle='--')\n",
        "    plt.xlabel('False Positive Rate')\n",
        "    plt.ylabel('True Positive Rate')\n",
        "    plt.title('Receiver Operating Characteristic (ROC) Curve')\n",
        "    plt.legend()\n",
        "    plt.show()"
      ],
      "execution_count": 0,
      "outputs": []
    },
    {
      "cell_type": "code",
      "metadata": {
        "id": "dEHpspkWvH7_",
        "colab_type": "code",
        "colab": {}
      },
      "source": [
        ""
      ],
      "execution_count": 0,
      "outputs": []
    }
  ]
}