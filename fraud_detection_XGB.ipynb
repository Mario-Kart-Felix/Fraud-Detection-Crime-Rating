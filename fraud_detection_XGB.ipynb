{
  "nbformat": 4,
  "nbformat_minor": 0,
  "metadata": {
    "colab": {
      "name": "fraud_detection_XGB.ipynb",
      "provenance": [],
      "collapsed_sections": [],
      "include_colab_link": true
    },
    "kernelspec": {
      "name": "python3",
      "display_name": "Python 3"
    },
    "accelerator": "GPU"
  },
  "cells": [
    {
      "cell_type": "markdown",
      "metadata": {
        "id": "view-in-github",
        "colab_type": "text"
      },
      "source": [
        "<a href=\"https://colab.research.google.com/github/Marzieh777/Fraud-Detection-Crime-Rating/blob/master/fraud_detection_XGB.ipynb\" target=\"_parent\"><img src=\"https://colab.research.google.com/assets/colab-badge.svg\" alt=\"Open In Colab\"/></a>"
      ]
    },
    {
      "cell_type": "code",
      "metadata": {
        "id": "0N7R7HsJd2rF",
        "colab_type": "code",
        "colab": {
          "base_uri": "https://localhost:8080/",
          "height": 34
        },
        "outputId": "d2144ac4-459f-41b4-c74a-4bef04e8ef38"
      },
      "source": [
        "#importing necessary packages\n",
        "import pandas as pd\n",
        "import numpy as np\n",
        "import gzip\n",
        "from sklearn.model_selection import cross_val_score\n",
        "from sklearn.metrics import (confusion_matrix, precision_recall_curve, auc,accuracy_score,\n",
        "                             roc_curve, recall_score, classification_report, f1_score,\n",
        "                             precision_recall_fscore_support, roc_auc_score, average_precision_score)\n",
        "from google.colab import drive\n",
        "from sklearn.model_selection import train_test_split\n",
        "\n",
        "import xgboost as xgb\n",
        "import matplotlib\n",
        "\n",
        "drive.mount(\"/content/drive\", force_remount=True)"
      ],
      "execution_count": 17,
      "outputs": [
        {
          "output_type": "stream",
          "text": [
            "Mounted at /content/drive\n"
          ],
          "name": "stdout"
        }
      ]
    },
    {
      "cell_type": "markdown",
      "metadata": {
        "id": "3NzmSlECjpkN",
        "colab_type": "text"
      },
      "source": [
        "# Load data and create a pandas dataframe"
      ]
    },
    {
      "cell_type": "code",
      "metadata": {
        "id": "LqSAXBiKeC7H",
        "colab_type": "code",
        "outputId": "b84de449-4ca6-4d21-8cb5-3287489593d7",
        "colab": {
          "base_uri": "https://localhost:8080/",
          "height": 156
        }
      },
      "source": [
        "path_data= '/content/drive/My Drive/Colab Notebooks/fraud_prep.csv.gz'\n",
        "fraud_df = pd.read_csv(path_data, compression='gzip', header=0, sep=',')\n",
        "print(fraud_df.head())"
      ],
      "execution_count": 18,
      "outputs": [
        {
          "output_type": "stream",
          "text": [
            "   Unnamed: 0  Time  ...                                        V30      V31\n",
            "0           0   0.0  ...                                        NaN  Suffolk\n",
            "1           1   0.0  ...  JPMorgan Chase Bank, National Association   Nassau\n",
            "2           2   1.0  ...                               TD Bank N.A.     Erie\n",
            "3           3   1.0  ...                             Santander Bank   Ulster\n",
            "4           4   2.0  ...                Chemung Canal Trust Company   Oswego\n",
            "\n",
            "[5 rows x 35 columns]\n"
          ],
          "name": "stdout"
        }
      ]
    },
    {
      "cell_type": "markdown",
      "metadata": {
        "id": "p3klLtRAj41M",
        "colab_type": "text"
      },
      "source": [
        "##The data set has NaN values in categorical and nmerical features, the following function helps to fill NaN values"
      ]
    },
    {
      "cell_type": "code",
      "metadata": {
        "id": "n9sTxWFrebHh",
        "colab_type": "code",
        "outputId": "5fe1de3b-3898-4b0b-8339-d1a65330b006",
        "colab": {
          "base_uri": "https://localhost:8080/",
          "height": 173
        }
      },
      "source": [
        "#NaN values for categorical and numerical:\n",
        "from sklearn.base import TransformerMixin\n",
        "\n",
        "class DataFrameImputer(TransformerMixin):\n",
        "\n",
        "    def __init__(self):\n",
        "        \"\"\"Impute missing values.\n",
        "\n",
        "        Columns of dtype object are imputed with the most frequent value \n",
        "        in column.\n",
        "\n",
        "        Columns of other types are imputed with mean of column.\n",
        "\n",
        "        \"\"\"\n",
        "    def fit(self, X, y=None):\n",
        "\n",
        "        self.fill = pd.Series([X[c].value_counts().index[0]\n",
        "            if X[c].dtype == np.dtype('O') else X[c].mean() for c in X],\n",
        "            index=X.columns)\n",
        "\n",
        "        return self\n",
        "\n",
        "    def transform(self, X, y=None):\n",
        "        return X.fillna(self.fill)\n",
        "\n",
        "fraud_df_clean = DataFrameImputer().fit_transform(fraud_df)\n",
        "print(len(fraud_df_clean))\n",
        "print(fraud_df_clean.head())"
      ],
      "execution_count": 19,
      "outputs": [
        {
          "output_type": "stream",
          "text": [
            "284807\n",
            "   Unnamed: 0  Time  ...                                        V30      V31\n",
            "0           0   0.0  ...  JPMorgan Chase Bank, National Association  Suffolk\n",
            "1           1   0.0  ...  JPMorgan Chase Bank, National Association   Nassau\n",
            "2           2   1.0  ...                               TD Bank N.A.     Erie\n",
            "3           3   1.0  ...                             Santander Bank   Ulster\n",
            "4           4   2.0  ...                Chemung Canal Trust Company   Oswego\n",
            "\n",
            "[5 rows x 35 columns]\n"
          ],
          "name": "stdout"
        }
      ]
    },
    {
      "cell_type": "markdown",
      "metadata": {
        "id": "bhHrHMrhguwm",
        "colab_type": "text"
      },
      "source": [
        "#Exploring data, numerical and categorical features"
      ]
    },
    {
      "cell_type": "code",
      "metadata": {
        "id": "7LVrQkhggYtu",
        "colab_type": "code",
        "outputId": "39563179-421e-41c4-dc2c-e333391b61a4",
        "colab": {
          "base_uri": "https://localhost:8080/",
          "height": 121
        }
      },
      "source": [
        "CATEGORICAL_INPUT_FEATURES = ['V{}'.format(i) for i in range(30, 32)]\n",
        "ALL_FEATURES = list(fraud_df_clean)\n",
        "INPUT_FEATURES = ALL_FEATURES.copy()\n",
        "INPUT_FEATURES.remove('Class') #target\n",
        "INPUT_FEATURES.remove('V29') #seems not important\n",
        "print(INPUT_FEATURES)\n",
        "NUMERICAL_INPUT_FEATURES = [feature for feature in INPUT_FEATURES if feature not in CATEGORICAL_INPUT_FEATURES]\n",
        "print(NUMERICAL_INPUT_FEATURES)\n",
        "print(CATEGORICAL_INPUT_FEATURES)\n",
        "# get number of frauds and non-frauds\n",
        "fraud_df_clean.Class.value_counts()"
      ],
      "execution_count": 20,
      "outputs": [
        {
          "output_type": "stream",
          "text": [
            "['Unnamed: 0', 'Time', 'V1', 'V2', 'V3', 'V4', 'V5', 'V6', 'V7', 'V8', 'V9', 'V10', 'V11', 'V12', 'V13', 'V14', 'V15', 'V16', 'V17', 'V18', 'V19', 'V20', 'V21', 'V22', 'V23', 'V24', 'V25', 'V26', 'V27', 'V28', 'Amount', 'V30', 'V31']\n",
            "['Unnamed: 0', 'Time', 'V1', 'V2', 'V3', 'V4', 'V5', 'V6', 'V7', 'V8', 'V9', 'V10', 'V11', 'V12', 'V13', 'V14', 'V15', 'V16', 'V17', 'V18', 'V19', 'V20', 'V21', 'V22', 'V23', 'V24', 'V25', 'V26', 'V27', 'V28', 'Amount']\n",
            "['V30', 'V31']\n"
          ],
          "name": "stdout"
        },
        {
          "output_type": "execute_result",
          "data": {
            "text/plain": [
              "0    284315\n",
              "1       492\n",
              "Name: Class, dtype: int64"
            ]
          },
          "metadata": {
            "tags": []
          },
          "execution_count": 20
        }
      ]
    },
    {
      "cell_type": "markdown",
      "metadata": {
        "id": "LsVI2Xa9hoGN",
        "colab_type": "text"
      },
      "source": [
        "# Split data into Test and Train "
      ]
    },
    {
      "cell_type": "code",
      "metadata": {
        "id": "OxPnWzILhtTz",
        "colab_type": "code",
        "outputId": "545699f8-b65d-4a9a-b9aa-db9ba2a6c03e",
        "colab": {
          "base_uri": "https://localhost:8080/",
          "height": 121
        }
      },
      "source": [
        "#set a seed to generate a fix random choice\n",
        "SEED = 1333 \n",
        "#splitting data into train and test:\n",
        "df_train, df_test = train_test_split(fraud_df_clean, test_size=0.3, random_state=SEED)\n",
        "#explore the number normal and fraud data in train and test\n",
        "print('#of frauds in train : ',len(df_train[df_train.Class==1]))\n",
        "print('# of normals in train: ',len(df_train[df_train.Class==0]))\n",
        "print('#of frauds in test: ', len(df_test[df_test.Class==1]))\n",
        "print('#of normals in test: ',len(df_test[df_test.Class==0]))\n",
        "\n",
        "#get features\n",
        "X_train= df_train.drop('Class',axis =1)\n",
        "X_test = df_test.drop('Class',axis =1)\n",
        "\n",
        "# get labels\n",
        "y_train =df_train.Class\n",
        "y_test =df_test.Class\n",
        "print(len(y_train))\n",
        "print(len(X_test))\n",
        "\n"
      ],
      "execution_count": 21,
      "outputs": [
        {
          "output_type": "stream",
          "text": [
            "#of frauds in train :  341\n",
            "# of normals in train:  199023\n",
            "#of frauds in test:  151\n",
            "#of normals in test:  85292\n",
            "199364\n",
            "85443\n"
          ],
          "name": "stdout"
        }
      ]
    },
    {
      "cell_type": "markdown",
      "metadata": {
        "id": "-8e66BFWhS9R",
        "colab_type": "text"
      },
      "source": [
        "#Preprocessing categorical and numerical data\n",
        "* Encode categorical features V30, V31.\n",
        "* Cooncatenating encoded categorical and numerical data\n"
      ]
    },
    {
      "cell_type": "code",
      "metadata": {
        "id": "-VyAV5ZyhO6k",
        "colab_type": "code",
        "outputId": "67c60276-ad36-42a2-ddad-23a3ee28b682",
        "colab": {
          "base_uri": "https://localhost:8080/",
          "height": 52
        }
      },
      "source": [
        "# encode categorical attributes into a binary one-hot encoded representation in test data and train data\n",
        "def encode_cat_features(cat_cols, train_data,test_data):\n",
        "  train_encoded = pd.get_dummies(train_data[cat_cols], prefix_sep=\"__\", columns=cat_cols)\n",
        "  encoded_columns = list(train_encoded.columns[:])\n",
        "  #print(encoded_columns)\n",
        "  cat_dummies = [col for col in train_encoded if \"__\" in col and col.split(\"__\")[0] in cat_cols]\n",
        "  test_encoded = pd.get_dummies(test_data[cat_cols], prefix_sep=\"__\", columns=cat_cols)\n",
        "  # Remove additional columns\n",
        "  for col in test_encoded.columns:\n",
        "    if (\"__\" in col) and (col.split(\"__\")[0] in cat_cols) and col not in cat_dummies:\n",
        "      print(\"Removing additional feature {}\".format(col))\n",
        "      test_encoded.drop(col, axis=1, inplace=True)\n",
        "  #add missing cols\n",
        "  for col in cat_dummies:\n",
        "    if col not in test_encoded.columns:\n",
        "      print(\"Adding missing feature {}\".format(col))\n",
        "      test_processed[col] = 0\n",
        "  test_encoded = test_encoded[encoded_columns]\n",
        "  return (train_encoded,test_encoded)\n",
        "\n",
        "  \n",
        "#get encoded categorical data\n",
        "X_train_cat, X_test_cat = encode_cat_features(CATEGORICAL_INPUT_FEATURES,X_train, X_test)\n",
        "#get numerical data\n",
        "X_train_num = X_train[NUMERICAL_INPUT_FEATURES]\n",
        "X_test_num = X_test[NUMERICAL_INPUT_FEATURES]\n",
        "# concatenating numerical and categorical\n",
        "df_train= pd.concat([X_train_cat,X_train_num, y_train], axis = 1)\n",
        "df_test = pd.concat([X_test_cat, X_test_num, y_test], axis = 1)\n",
        "\n",
        "#we can sample train and test data by fraction of data\n",
        "#we choose frac = 1 for the last run\n",
        "df_train_rd = df_train.sample(frac =1)\n",
        "df_test_rd= df_test.sample(frac = 1)\n",
        "\n",
        "#Get inputs and targets\n",
        "X_train_rd =df_train_rd.drop('Class',axis = 1)\n",
        "y_train_rd=df_train_rd.Class.values\n",
        "\n",
        "X_test_rd =df_test_rd.drop('Class',axis = 1)\n",
        "y_test_rd=df_test_rd.Class.values\n",
        "\n",
        "print(len(df_train_rd))\n",
        "print(len(df_test_rd))"
      ],
      "execution_count": 22,
      "outputs": [
        {
          "output_type": "stream",
          "text": [
            "199364\n",
            "85443\n"
          ],
          "name": "stdout"
        }
      ]
    },
    {
      "cell_type": "markdown",
      "metadata": {
        "id": "OMW0vjcju5Wr",
        "colab_type": "text"
      },
      "source": [
        "#Feature selection option with chi2 score"
      ]
    },
    {
      "cell_type": "code",
      "metadata": {
        "id": "aDXru4Csu9Jb",
        "colab_type": "code",
        "outputId": "ac3b098d-c24f-4f30-b097-e35e30a1bfb2",
        "colab": {
          "base_uri": "https://localhost:8080/",
          "height": 106
        }
      },
      "source": [
        "from sklearn.feature_selection import SelectPercentile\n",
        "from sklearn.feature_selection import f_classif,chi2\n",
        "from sklearn.preprocessing import Binarizer, scale\n",
        "\n",
        "FEATURE_S = True\n",
        "\n",
        "def fs(X,y,p_val):\n",
        "  if FEATURE_S:\n",
        "        \n",
        "    X_bin = Binarizer().fit_transform(scale(X))\n",
        "    selectChi2 = SelectPercentile(chi2, percentile=p_val).fit(X_bin, y)\n",
        "    selectF_classif = SelectPercentile(f_classif, percentile=p_val).fit(X, y)\n",
        "\n",
        "    chi2_selected = selectChi2.get_support()\n",
        "    chi2_selected_features = [ f for i,f in enumerate(X.columns) if chi2_selected[i]]\n",
        "    print('Chi2 selected {} features {}.'.format(chi2_selected.sum(),\n",
        "      chi2_selected_features))\n",
        "    f_classif_selected = selectF_classif.get_support()\n",
        "    f_classif_selected_features = [ f for i,f in enumerate(X.columns) if f_classif_selected[i]]\n",
        "    print('F_classif selected {} features {}.'.format(f_classif_selected.sum(),\n",
        "      f_classif_selected_features))\n",
        "    selected = chi2_selected & f_classif_selected\n",
        "    print('Chi2 & F_classif selected {} features'.format(selected.sum()))\n",
        "    features = [ f for f,s in zip(X.columns, selected) if s]\n",
        "    print (len(features))\n",
        "    return (features)\n",
        "\n",
        "f_sel = fs(X_train_rd,y_train_rd, 50)\n",
        "X_train_rd = X_train_rd[f_sel]\n",
        "X_test_rd = X_test_rd[f_sel]\n"
      ],
      "execution_count": 23,
      "outputs": [
        {
          "output_type": "stream",
          "text": [
            "Chi2 selected 169 features ['V30__Access Federal Credit Union', 'V30__Adirondack Trust Company, The', 'V30__Advantage Federal C.U.', 'V30__Alma Bank', 'V30__Amalgamated Bank', 'V30__Apple Bank For Savings', 'V30__Bank of Akron', 'V30__Bank of America N.A. GA1-006-15-40', 'V30__Bank of Hope', 'V30__Bank of Millbrook', 'V30__Bay Ridge Federal Credit Union', 'V30__Berkshire Bank (Pittsfield, MA)', 'V30__Bridgehampton National Bank, The', 'V30__Buffalo Metropolitan Federal CU', 'V30__CFCU Community Credit Union', 'V30__CTBC Bank Corp. (USA)', 'V30__Canandaigua National Corporation', 'V30__Capital One, N.A.', 'V30__Carver Federal Savings Bank', 'V30__Cathay Bank', 'V30__Catskill Hudson Bank', 'V30__Cattaraugus County Bank', 'V30__Champlain National Bank', 'V30__Chemung Canal Trust Company', 'V30__Commerce Bank, N.A.', 'V30__Cooperative Federal', 'V30__Corning Federal Credit Union', 'V30__Cross County Federal Savings Bank', 'V30__Delaware National Bank of Delhi, The', 'V30__Dime Community Bank', 'V30__East West Bank', 'V30__Empire National Bank', 'V30__Empower Federal Credit Union', 'V30__Fairport Savings Bank', 'V30__Family First Federal Credit Union', 'V30__Finger Lakes Federal Credit Union', 'V30__First American International Bank', 'V30__First Central Savings Bank', 'V30__First National Bank of Dryden, The', 'V30__First National Bank of Groton', 'V30__First National Bank of Scotia', 'V30__First New York, FCU', 'V30__First Republic Bank', 'V30__Five Star Bank', 'V30__Flushing Savings Bank, FSB', 'V30__Fulton Savings Bank', 'V30__G.P.O Federal Credit Union', 'V30__GHS Federal Credit Union', 'V30__Generations Bank', 'V30__Gold Coast Bank', 'V30__HSBC Bank USA, National Association', 'V30__Hanover Community Bank', 'V30__Hudson Heritage Federal Credit Union', 'V30__Hudson River Community Credit Union', 'V30__Hudson United Bank', 'V30__Investors Bank', 'V30__Island Federal Credit Union', 'V30__Lake Shore Savings Bank', 'V30__Lyons National Bank', 'V30__Manufacturers and Traders Trust Company', 'V30__Mid-Hudson Valley Federal Credit Union', 'V30__Municipal Credit Union', 'V30__Nassau Educators Federal Credit Union', 'V30__Nassau Financial Federal Credit Union', 'V30__National Bank of Coxsackie', 'V30__New York National Bank', 'V30__Northern Federal Credit Union', 'V30__Northwest Savings Bank', 'V30__Orange Bank & Trust Company', 'V30__Pathfinder Bank', \"V30__People's United Bank\", 'V30__Peoples Alliance Federal Credit Union', 'V30__Polish & Slavic Federal Credit Union', 'V30__Quontic Bank', 'V30__Reliant Community Credit Union', 'V30__Ridgewood Savings Bank', 'V30__Rome Savings Bank, FSB', 'V30__Savannah Bank N.A.', 'V30__School Employees of CNY Federal Credit Union', 'V30__Sea Comm Federal Credit Union', 'V30__ServU Federal Credit Union', 'V30__Sidney Federal Credit Union', 'V30__Signature Bank', 'V30__Solvay Bank', 'V30__Sterling National Bank of New York', 'V30__Summit Federal Credit Union, The', 'V30__TD Bank N.A.', 'V30__TEG Federal Credit Union', 'V30__Teachers Federal Credit Union', 'V30__The Bank of Greene County', 'V30__Tompkins Trust Company', 'V30__Trustco Bank N.A. CTF', 'V30__USAlliance Financial', 'V30__USNY Bank', 'V30__Ulster Savings Bank', 'V30__Valley National Bank', 'V30__Victory State Bank', 'V30__WSB Municipal Bank', 'V30__Walden Savings Bank', 'V30__Wallkill Valley FS & LA', 'V30__Wayne Bank', 'V30__Webster Bank', 'V30__Westchester Bank, The', 'V30__Xceed Financial Credit Union', 'V31__Albany', 'V31__Bronx', 'V31__Cattaraugus', 'V31__Chenango', 'V31__Clinton', 'V31__Columbia', 'V31__Cortland', 'V31__Dutchess', 'V31__Essex', 'V31__Fulton', 'V31__Genesee', 'V31__Greene', 'V31__Herkimer', 'V31__Kings', 'V31__Lewis', 'V31__Madison', 'V31__Monroe', 'V31__Montogomery', 'V31__New York', 'V31__Niagara', 'V31__Onondaga', 'V31__Ontario', 'V31__Orange', 'V31__Richmond', 'V31__Rockland', 'V31__Schenectady', 'V31__Schoharie', 'V31__Schuyler', 'V31__St. Lawrence', 'V31__Steuben', 'V31__Tioga', 'V31__Warren', 'V31__Westchester', 'V31__Wyoming', 'V31__Yates', 'Unnamed: 0', 'Time', 'V1', 'V2', 'V3', 'V5', 'V6', 'V7', 'V8', 'V9', 'V10', 'V11', 'V12', 'V13', 'V14', 'V15', 'V16', 'V17', 'V18', 'V19', 'V20', 'V21', 'V22', 'V23', 'V24', 'V25', 'V26', 'V27', 'V28', 'Amount'].\n",
            "F_classif selected 169 features ['V30__Adirondack Trust Company, The', 'V30__Advantage Federal C.U.', 'V30__Alma Bank', 'V30__Amalgamated Bank', 'V30__Apple Bank For Savings', 'V30__Bank of Akron', 'V30__Bank of America N.A. GA1-006-15-40', 'V30__Bank of Hope', 'V30__Bank of Millbrook', 'V30__Bay Ridge Federal Credit Union', 'V30__Berkshire Bank (Pittsfield, MA)', 'V30__Bridgehampton National Bank, The', 'V30__Buffalo Metropolitan Federal CU', 'V30__CFCU Community Credit Union', 'V30__CTBC Bank Corp. (USA)', 'V30__Canandaigua National Corporation', 'V30__Capital One, N.A.', 'V30__Carver Federal Savings Bank', 'V30__Cathay Bank', 'V30__Catskill Hudson Bank', 'V30__Cattaraugus County Bank', 'V30__Champlain National Bank', 'V30__Chemung Canal Trust Company', 'V30__Commerce Bank, N.A.', 'V30__Cooperative Federal', 'V30__Corning Federal Credit Union', 'V30__Cross County Federal Savings Bank', 'V30__Delaware National Bank of Delhi, The', 'V30__Dime Community Bank', 'V30__East West Bank', 'V30__Empire National Bank', 'V30__Empower Federal Credit Union', 'V30__Fairport Savings Bank', 'V30__Family First Federal Credit Union', 'V30__Finger Lakes Federal Credit Union', 'V30__First American International Bank', 'V30__First Central Savings Bank', 'V30__First National Bank of Dryden, The', 'V30__First National Bank of Groton', 'V30__First National Bank of Scotia', 'V30__First New York, FCU', 'V30__First Republic Bank', 'V30__Five Star Bank', 'V30__Flushing Savings Bank, FSB', 'V30__Fulton Savings Bank', 'V30__G.P.O Federal Credit Union', 'V30__GHS Federal Credit Union', 'V30__Generations Bank', 'V30__Gold Coast Bank', 'V30__HSBC Bank USA, National Association', 'V30__Hanover Community Bank', 'V30__Hudson Heritage Federal Credit Union', 'V30__Hudson River Community Credit Union', 'V30__Hudson United Bank', 'V30__Investors Bank', 'V30__Island Federal Credit Union', 'V30__Lake Shore Savings Bank', 'V30__Lyons National Bank', 'V30__Manufacturers and Traders Trust Company', 'V30__Mid-Hudson Valley Federal Credit Union', 'V30__Municipal Credit Union', 'V30__Nassau Educators Federal Credit Union', 'V30__Nassau Financial Federal Credit Union', 'V30__National Bank of Coxsackie', 'V30__New York National Bank', 'V30__Northern Federal Credit Union', 'V30__Northwest Savings Bank', 'V30__Orange Bank & Trust Company', 'V30__Pathfinder Bank', \"V30__People's United Bank\", 'V30__Peoples Alliance Federal Credit Union', 'V30__Polish & Slavic Federal Credit Union', 'V30__Quontic Bank', 'V30__Reliant Community Credit Union', 'V30__Ridgewood Savings Bank', 'V30__Rome Savings Bank, FSB', 'V30__Savannah Bank N.A.', 'V30__School Employees of CNY Federal Credit Union', 'V30__Sea Comm Federal Credit Union', 'V30__ServU Federal Credit Union', 'V30__Sidney Federal Credit Union', 'V30__Signature Bank', 'V30__Solvay Bank', 'V30__Sterling National Bank of New York', 'V30__Summit Federal Credit Union, The', 'V30__TD Bank N.A.', 'V30__TEG Federal Credit Union', 'V30__Teachers Federal Credit Union', 'V30__The Bank of Greene County', 'V30__Tompkins Trust Company', 'V30__Trustco Bank N.A. CTF', 'V30__USAlliance Financial', 'V30__USNY Bank', 'V30__Ulster Savings Bank', 'V30__Valley National Bank', 'V30__Victory State Bank', 'V30__WSB Municipal Bank', 'V30__Walden Savings Bank', 'V30__Wallkill Valley FS & LA', 'V30__Wayne Bank', 'V30__Webster Bank', 'V30__Westchester Bank, The', 'V30__Xceed Financial Credit Union', 'V31__Albany', 'V31__Bronx', 'V31__Cattaraugus', 'V31__Chenango', 'V31__Clinton', 'V31__Columbia', 'V31__Cortland', 'V31__Dutchess', 'V31__Essex', 'V31__Fulton', 'V31__Genesee', 'V31__Greene', 'V31__Herkimer', 'V31__Kings', 'V31__Lewis', 'V31__Madison', 'V31__Monroe', 'V31__Montogomery', 'V31__New York', 'V31__Niagara', 'V31__Onondaga', 'V31__Ontario', 'V31__Orange', 'V31__Richmond', 'V31__Rockland', 'V31__Schenectady', 'V31__Schoharie', 'V31__Schuyler', 'V31__St. Lawrence', 'V31__Steuben', 'V31__Tioga', 'V31__Warren', 'V31__Westchester', 'V31__Wyoming', 'V31__Yates', 'Unnamed: 0', 'Time', 'V1', 'V2', 'V3', 'V4', 'V5', 'V6', 'V7', 'V8', 'V9', 'V10', 'V11', 'V12', 'V13', 'V14', 'V15', 'V16', 'V17', 'V18', 'V19', 'V20', 'V21', 'V22', 'V23', 'V24', 'V25', 'V26', 'V27', 'V28', 'Amount'].\n",
            "Chi2 & F_classif selected 168 features\n",
            "168\n"
          ],
          "name": "stdout"
        }
      ]
    },
    {
      "cell_type": "markdown",
      "metadata": {
        "id": "3eUjZiYy_3ia",
        "colab_type": "text"
      },
      "source": [
        "# Deal with the imbalance data\n",
        "* we use SMOTE technic to balance TRAIN data (Synthetic Minority Over-sampling Technique )"
      ]
    },
    {
      "cell_type": "code",
      "metadata": {
        "id": "qWVPcHQe0Ovd",
        "colab_type": "code",
        "outputId": "e0e137f0-07f1-4452-b2ec-e111311627ac",
        "colab": {
          "base_uri": "https://localhost:8080/",
          "height": 52
        }
      },
      "source": [
        "from imblearn.over_sampling import SMOTE\n",
        "# SMOTE\n",
        "sm = SMOTE(random_state=42)\n",
        "X_train_res, y_train_res = sm.fit_sample(X_train_rd, y_train_rd)\n",
        "cols = X_test_rd.columns\n",
        "# converting trai data to a data frame with the original column names\n",
        "X_train_res = pd.DataFrame(X_train_res, columns= cols)"
      ],
      "execution_count": 24,
      "outputs": [
        {
          "output_type": "stream",
          "text": [
            "/usr/local/lib/python3.6/dist-packages/sklearn/utils/deprecation.py:87: FutureWarning: Function safe_indexing is deprecated; safe_indexing is deprecated in version 0.22 and will be removed in version 0.24.\n",
            "  warnings.warn(msg, category=FutureWarning)\n"
          ],
          "name": "stderr"
        }
      ]
    },
    {
      "cell_type": "markdown",
      "metadata": {
        "id": "mfVIxPkWGboJ",
        "colab_type": "text"
      },
      "source": [
        "#Performing XGboost Classifier"
      ]
    },
    {
      "cell_type": "code",
      "metadata": {
        "id": "NqxgrUUdBg3b",
        "colab_type": "code",
        "outputId": "a32ff8db-9754-48e6-c20a-19c029ed9057",
        "colab": {
          "base_uri": "https://localhost:8080/",
          "height": 1000
        }
      },
      "source": [
        "#Implementing XG-boost #max_depth= 10\n",
        "clf = xgb.XGBClassifier(missing=9999999999,\n",
        "                max_depth = 10,\n",
        "                n_estimators=1000,\n",
        "                learning_rate=0.1,\n",
        "                nthread=4,\n",
        "                subsample=1.0,\n",
        "                colsample_bytree=0.5,\n",
        "                min_child_weight = 3,\n",
        "                seed=SEED)\n",
        "\n",
        "#fit classifier with eval_metric=AUC_PR, early stopping if the result does not improve after 10 consecutive iteration\n",
        "clf.fit(X_train_res, y_train_res, early_stopping_rounds=10, eval_metric=\"aucpr\",\n",
        "        eval_set=[(X_test_rd, y_test_rd)])"
      ],
      "execution_count": 14,
      "outputs": [
        {
          "output_type": "stream",
          "text": [
            "[0]\tvalidation_0-aucpr:0.533498\n",
            "Will train until validation_0-aucpr hasn't improved in 10 rounds.\n",
            "[1]\tvalidation_0-aucpr:0.672835\n",
            "[2]\tvalidation_0-aucpr:0.717575\n",
            "[3]\tvalidation_0-aucpr:0.757179\n",
            "[4]\tvalidation_0-aucpr:0.766306\n",
            "[5]\tvalidation_0-aucpr:0.775908\n",
            "[6]\tvalidation_0-aucpr:0.77017\n",
            "[7]\tvalidation_0-aucpr:0.771051\n",
            "[8]\tvalidation_0-aucpr:0.774218\n",
            "[9]\tvalidation_0-aucpr:0.772743\n",
            "[10]\tvalidation_0-aucpr:0.773637\n",
            "[11]\tvalidation_0-aucpr:0.773418\n",
            "[12]\tvalidation_0-aucpr:0.777155\n",
            "[13]\tvalidation_0-aucpr:0.778187\n",
            "[14]\tvalidation_0-aucpr:0.779785\n",
            "[15]\tvalidation_0-aucpr:0.788069\n",
            "[16]\tvalidation_0-aucpr:0.78795\n",
            "[17]\tvalidation_0-aucpr:0.787567\n",
            "[18]\tvalidation_0-aucpr:0.788815\n",
            "[19]\tvalidation_0-aucpr:0.790264\n",
            "[20]\tvalidation_0-aucpr:0.788993\n",
            "[21]\tvalidation_0-aucpr:0.7888\n",
            "[22]\tvalidation_0-aucpr:0.789037\n",
            "[23]\tvalidation_0-aucpr:0.789124\n",
            "[24]\tvalidation_0-aucpr:0.789861\n",
            "[25]\tvalidation_0-aucpr:0.816029\n",
            "[26]\tvalidation_0-aucpr:0.815434\n",
            "[27]\tvalidation_0-aucpr:0.815871\n",
            "[28]\tvalidation_0-aucpr:0.813679\n",
            "[29]\tvalidation_0-aucpr:0.815614\n",
            "[30]\tvalidation_0-aucpr:0.816197\n",
            "[31]\tvalidation_0-aucpr:0.815198\n",
            "[32]\tvalidation_0-aucpr:0.815498\n",
            "[33]\tvalidation_0-aucpr:0.814242\n",
            "[34]\tvalidation_0-aucpr:0.81874\n",
            "[35]\tvalidation_0-aucpr:0.8185\n",
            "[36]\tvalidation_0-aucpr:0.817574\n",
            "[37]\tvalidation_0-aucpr:0.817581\n",
            "[38]\tvalidation_0-aucpr:0.817923\n",
            "[39]\tvalidation_0-aucpr:0.822585\n",
            "[40]\tvalidation_0-aucpr:0.824262\n",
            "[41]\tvalidation_0-aucpr:0.823914\n",
            "[42]\tvalidation_0-aucpr:0.822853\n",
            "[43]\tvalidation_0-aucpr:0.823824\n",
            "[44]\tvalidation_0-aucpr:0.824667\n",
            "[45]\tvalidation_0-aucpr:0.825571\n",
            "[46]\tvalidation_0-aucpr:0.826529\n",
            "[47]\tvalidation_0-aucpr:0.826919\n",
            "[48]\tvalidation_0-aucpr:0.826676\n",
            "[49]\tvalidation_0-aucpr:0.824885\n",
            "[50]\tvalidation_0-aucpr:0.825147\n",
            "[51]\tvalidation_0-aucpr:0.825549\n",
            "[52]\tvalidation_0-aucpr:0.82538\n",
            "[53]\tvalidation_0-aucpr:0.82584\n",
            "[54]\tvalidation_0-aucpr:0.826251\n",
            "[55]\tvalidation_0-aucpr:0.826669\n",
            "[56]\tvalidation_0-aucpr:0.826435\n",
            "[57]\tvalidation_0-aucpr:0.828549\n",
            "[58]\tvalidation_0-aucpr:0.832969\n",
            "[59]\tvalidation_0-aucpr:0.83342\n",
            "[60]\tvalidation_0-aucpr:0.833378\n",
            "[61]\tvalidation_0-aucpr:0.835827\n",
            "[62]\tvalidation_0-aucpr:0.835754\n",
            "[63]\tvalidation_0-aucpr:0.835717\n",
            "[64]\tvalidation_0-aucpr:0.835953\n",
            "[65]\tvalidation_0-aucpr:0.835843\n",
            "[66]\tvalidation_0-aucpr:0.835821\n",
            "[67]\tvalidation_0-aucpr:0.836078\n",
            "[68]\tvalidation_0-aucpr:0.835633\n",
            "[69]\tvalidation_0-aucpr:0.836322\n",
            "[70]\tvalidation_0-aucpr:0.836623\n",
            "[71]\tvalidation_0-aucpr:0.837276\n",
            "[72]\tvalidation_0-aucpr:0.837011\n",
            "[73]\tvalidation_0-aucpr:0.8382\n",
            "[74]\tvalidation_0-aucpr:0.838089\n",
            "[75]\tvalidation_0-aucpr:0.838438\n",
            "[76]\tvalidation_0-aucpr:0.838671\n",
            "[77]\tvalidation_0-aucpr:0.838494\n",
            "[78]\tvalidation_0-aucpr:0.838791\n",
            "[79]\tvalidation_0-aucpr:0.839391\n",
            "[80]\tvalidation_0-aucpr:0.840087\n",
            "[81]\tvalidation_0-aucpr:0.841133\n",
            "[82]\tvalidation_0-aucpr:0.840352\n",
            "[83]\tvalidation_0-aucpr:0.840265\n",
            "[84]\tvalidation_0-aucpr:0.840007\n",
            "[85]\tvalidation_0-aucpr:0.839812\n",
            "[86]\tvalidation_0-aucpr:0.840167\n",
            "[87]\tvalidation_0-aucpr:0.840015\n",
            "[88]\tvalidation_0-aucpr:0.840197\n",
            "[89]\tvalidation_0-aucpr:0.840245\n",
            "[90]\tvalidation_0-aucpr:0.84021\n",
            "[91]\tvalidation_0-aucpr:0.840237\n",
            "Stopping. Best iteration:\n",
            "[81]\tvalidation_0-aucpr:0.841133\n",
            "\n"
          ],
          "name": "stdout"
        },
        {
          "output_type": "execute_result",
          "data": {
            "text/plain": [
              "XGBClassifier(base_score=0.5, booster='gbtree', colsample_bylevel=1,\n",
              "              colsample_bynode=1, colsample_bytree=0.5, gamma=0,\n",
              "              learning_rate=0.1, max_delta_step=0, max_depth=10,\n",
              "              min_child_weight=3, missing=9999999999, n_estimators=1000,\n",
              "              n_jobs=1, nthread=4, objective='binary:logistic', random_state=0,\n",
              "              reg_alpha=0, reg_lambda=1, scale_pos_weight=1, seed=1333,\n",
              "              silent=None, subsample=1.0, verbosity=1)"
            ]
          },
          "metadata": {
            "tags": []
          },
          "execution_count": 14
        }
      ]
    },
    {
      "cell_type": "markdown",
      "metadata": {
        "id": "hQJxkjuxpjPb",
        "colab_type": "text"
      },
      "source": [
        "#Display results"
      ]
    },
    {
      "cell_type": "code",
      "metadata": {
        "id": "QQedY0-5pIci",
        "colab_type": "code",
        "outputId": "d7f3eb3a-1feb-464e-a262-aadf27f2af5d",
        "colab": {
          "base_uri": "https://localhost:8080/",
          "height": 208
        }
      },
      "source": [
        "#get AUC and AUC_PR on test data\n",
        "print('Overall AUC TEST:', roc_auc_score(y_test_rd, clf.predict(X_test_rd, ntree_limit=clf.best_iteration))) \t\n",
        "print('Overall AUC PR TEST:', average_precision_score(y_test_rd, clf.predict(X_test_rd, ntree_limit=clf.best_iteration))) \n",
        "# get precision and recall for each class\n",
        "print (classification_report(y_test_rd, clf.predict(X_test_rd)))"
      ],
      "execution_count": 15,
      "outputs": [
        {
          "output_type": "stream",
          "text": [
            "Overall AUC TEST: 0.913760729405458\n",
            "Overall AUC PR TEST: 0.6901497710452258\n",
            "              precision    recall  f1-score   support\n",
            "\n",
            "           0       1.00      1.00      1.00     85292\n",
            "           1       0.83      0.83      0.83       151\n",
            "\n",
            "    accuracy                           1.00     85443\n",
            "   macro avg       0.92      0.92      0.92     85443\n",
            "weighted avg       1.00      1.00      1.00     85443\n",
            "\n"
          ],
          "name": "stdout"
        }
      ]
    },
    {
      "cell_type": "markdown",
      "metadata": {
        "id": "Mo4SeVnY8_H1",
        "colab_type": "text"
      },
      "source": [
        "# XGB classifier along with cross validation to avoid overfitting\n",
        "* # we can use Cross validation like in crime rating prediction"
      ]
    },
    {
      "cell_type": "code",
      "metadata": {
        "id": "xyGJpt8oZ3A3",
        "colab_type": "code",
        "colab": {}
      },
      "source": [
        ""
      ],
      "execution_count": 0,
      "outputs": []
    }
  ]
}