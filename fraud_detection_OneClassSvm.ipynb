{
  "nbformat": 4,
  "nbformat_minor": 0,
  "metadata": {
    "colab": {
      "name": "fraud_detection_OneClassSvm.ipynb",
      "provenance": [],
      "collapsed_sections": [],
      "include_colab_link": true
    },
    "kernelspec": {
      "name": "python3",
      "display_name": "Python 3"
    },
    "accelerator": "GPU"
  },
  "cells": [
    {
      "cell_type": "markdown",
      "metadata": {
        "id": "view-in-github",
        "colab_type": "text"
      },
      "source": [
        "<a href=\"https://colab.research.google.com/github/Marzieh777/Fraud-Detection-Crime-Rating/blob/master/fraud_detection_OneClassSvm.ipynb\" target=\"_parent\"><img src=\"https://colab.research.google.com/assets/colab-badge.svg\" alt=\"Open In Colab\"/></a>"
      ]
    },
    {
      "cell_type": "code",
      "metadata": {
        "id": "0N7R7HsJd2rF",
        "colab_type": "code",
        "colab": {
          "base_uri": "https://localhost:8080/",
          "height": 124
        },
        "outputId": "44c616d2-f00b-49e5-baf4-ef41897ebd81"
      },
      "source": [
        "#import packages\n",
        "import pandas as pd\n",
        "import numpy as np\n",
        "import gzip\n",
        "from sklearn.base import TransformerMixin\n",
        "\n",
        "\n",
        "from google.colab import drive\n",
        "drive.mount(\"/content/drive\", force_remount=True)"
      ],
      "execution_count": 1,
      "outputs": [
        {
          "output_type": "stream",
          "text": [
            "Go to this URL in a browser: https://accounts.google.com/o/oauth2/auth?client_id=947318989803-6bn6qk8qdgf4n4g3pfee6491hc0brc4i.apps.googleusercontent.com&redirect_uri=urn%3aietf%3awg%3aoauth%3a2.0%3aoob&response_type=code&scope=email%20https%3a%2f%2fwww.googleapis.com%2fauth%2fdocs.test%20https%3a%2f%2fwww.googleapis.com%2fauth%2fdrive%20https%3a%2f%2fwww.googleapis.com%2fauth%2fdrive.photos.readonly%20https%3a%2f%2fwww.googleapis.com%2fauth%2fpeopleapi.readonly\n",
            "\n",
            "Enter your authorization code:\n",
            "··········\n",
            "Mounted at /content/drive\n"
          ],
          "name": "stdout"
        }
      ]
    },
    {
      "cell_type": "code",
      "metadata": {
        "id": "LqSAXBiKeC7H",
        "colab_type": "code",
        "colab": {}
      },
      "source": [
        "path_data= '/content/drive/My Drive/Colab Notebooks/fraud_prep.csv.gz'\n",
        "fraud_df = pd.read_csv(path_data, compression='gzip', header=0, sep=',')"
      ],
      "execution_count": 0,
      "outputs": []
    },
    {
      "cell_type": "code",
      "metadata": {
        "id": "n9sTxWFrebHh",
        "colab_type": "code",
        "outputId": "d5d14d7a-0913-4ce1-a376-cff5e669294a",
        "colab": {
          "base_uri": "https://localhost:8080/",
          "height": 34
        }
      },
      "source": [
        "#NaN values for categorical and numerical:\n",
        "class DataFrameImputer(TransformerMixin):\n",
        "\n",
        "    def __init__(self):\n",
        "        \"\"\"Impute missing values.\n",
        "\n",
        "        Columns of dtype object are imputed with the most frequent value \n",
        "        in column.\n",
        "\n",
        "        Columns of other types are imputed with mean of column.\n",
        "\n",
        "        \"\"\"\n",
        "    def fit(self, X, y=None):\n",
        "\n",
        "        self.fill = pd.Series([X[c].value_counts().index[0]\n",
        "            if X[c].dtype == np.dtype('O') else X[c].mean() for c in X],\n",
        "            index=X.columns)\n",
        "\n",
        "        return self\n",
        "\n",
        "    def transform(self, X, y=None):\n",
        "        return X.fillna(self.fill)\n",
        "\n",
        "fraud_df_clean = DataFrameImputer().fit_transform(fraud_df)\n",
        "print(len(fraud_df_clean))\n"
      ],
      "execution_count": 3,
      "outputs": [
        {
          "output_type": "stream",
          "text": [
            "284807\n"
          ],
          "name": "stdout"
        }
      ]
    },
    {
      "cell_type": "code",
      "metadata": {
        "id": "yS34bmeQHgJ4",
        "colab_type": "code",
        "outputId": "e1f273fc-7e74-401d-adf1-57e4d6cda044",
        "colab": {
          "base_uri": "https://localhost:8080/",
          "height": 482
        }
      },
      "source": [
        "fraud_df_clean.head()"
      ],
      "execution_count": 4,
      "outputs": [
        {
          "output_type": "execute_result",
          "data": {
            "text/html": [
              "<div>\n",
              "<style scoped>\n",
              "    .dataframe tbody tr th:only-of-type {\n",
              "        vertical-align: middle;\n",
              "    }\n",
              "\n",
              "    .dataframe tbody tr th {\n",
              "        vertical-align: top;\n",
              "    }\n",
              "\n",
              "    .dataframe thead th {\n",
              "        text-align: right;\n",
              "    }\n",
              "</style>\n",
              "<table border=\"1\" class=\"dataframe\">\n",
              "  <thead>\n",
              "    <tr style=\"text-align: right;\">\n",
              "      <th></th>\n",
              "      <th>Unnamed: 0</th>\n",
              "      <th>Time</th>\n",
              "      <th>V1</th>\n",
              "      <th>V2</th>\n",
              "      <th>V3</th>\n",
              "      <th>V4</th>\n",
              "      <th>V5</th>\n",
              "      <th>V6</th>\n",
              "      <th>V7</th>\n",
              "      <th>V8</th>\n",
              "      <th>V9</th>\n",
              "      <th>V10</th>\n",
              "      <th>V11</th>\n",
              "      <th>V12</th>\n",
              "      <th>V13</th>\n",
              "      <th>V14</th>\n",
              "      <th>V15</th>\n",
              "      <th>V16</th>\n",
              "      <th>V17</th>\n",
              "      <th>V18</th>\n",
              "      <th>V19</th>\n",
              "      <th>V20</th>\n",
              "      <th>V21</th>\n",
              "      <th>V22</th>\n",
              "      <th>V23</th>\n",
              "      <th>V24</th>\n",
              "      <th>V25</th>\n",
              "      <th>V26</th>\n",
              "      <th>V27</th>\n",
              "      <th>V28</th>\n",
              "      <th>Amount</th>\n",
              "      <th>Class</th>\n",
              "      <th>V29</th>\n",
              "      <th>V30</th>\n",
              "      <th>V31</th>\n",
              "    </tr>\n",
              "  </thead>\n",
              "  <tbody>\n",
              "    <tr>\n",
              "      <th>0</th>\n",
              "      <td>0</td>\n",
              "      <td>0.0</td>\n",
              "      <td>0.012453</td>\n",
              "      <td>-0.072781</td>\n",
              "      <td>-1.127901</td>\n",
              "      <td>0.001365</td>\n",
              "      <td>-0.338321</td>\n",
              "      <td>0.462388</td>\n",
              "      <td>0.239599</td>\n",
              "      <td>0.098698</td>\n",
              "      <td>0.363787</td>\n",
              "      <td>0.090794</td>\n",
              "      <td>-0.551600</td>\n",
              "      <td>-0.617801</td>\n",
              "      <td>-0.991390</td>\n",
              "      <td>-0.311169</td>\n",
              "      <td>1.468177</td>\n",
              "      <td>-0.470401</td>\n",
              "      <td>0.207971</td>\n",
              "      <td>0.025791</td>\n",
              "      <td>0.403993</td>\n",
              "      <td>0.251412</td>\n",
              "      <td>-0.018307</td>\n",
              "      <td>0.277838</td>\n",
              "      <td>-0.110474</td>\n",
              "      <td>0.066928</td>\n",
              "      <td>0.128539</td>\n",
              "      <td>-0.189115</td>\n",
              "      <td>0.133558</td>\n",
              "      <td>-0.021053</td>\n",
              "      <td>149.62</td>\n",
              "      <td>0</td>\n",
              "      <td>4820 Sunrise Highway\\nSayville, NY 11782\\n(40....</td>\n",
              "      <td>JPMorgan Chase Bank, National Association</td>\n",
              "      <td>Suffolk</td>\n",
              "    </tr>\n",
              "    <tr>\n",
              "      <th>1</th>\n",
              "      <td>1</td>\n",
              "      <td>0.0</td>\n",
              "      <td>1.191857</td>\n",
              "      <td>0.266151</td>\n",
              "      <td>-1.127901</td>\n",
              "      <td>0.001365</td>\n",
              "      <td>0.060018</td>\n",
              "      <td>-0.082361</td>\n",
              "      <td>-0.078803</td>\n",
              "      <td>0.085102</td>\n",
              "      <td>-0.255425</td>\n",
              "      <td>-0.166974</td>\n",
              "      <td>1.612727</td>\n",
              "      <td>1.065235</td>\n",
              "      <td>0.489095</td>\n",
              "      <td>-0.143772</td>\n",
              "      <td>0.635558</td>\n",
              "      <td>0.463917</td>\n",
              "      <td>-0.114805</td>\n",
              "      <td>-0.183361</td>\n",
              "      <td>-0.145783</td>\n",
              "      <td>-0.069083</td>\n",
              "      <td>-0.225775</td>\n",
              "      <td>-0.638672</td>\n",
              "      <td>0.101288</td>\n",
              "      <td>-0.339846</td>\n",
              "      <td>0.167170</td>\n",
              "      <td>0.125895</td>\n",
              "      <td>-0.008983</td>\n",
              "      <td>0.014724</td>\n",
              "      <td>2.69</td>\n",
              "      <td>0</td>\n",
              "      <td>51 20 Northern Boulevard\\nWoodside, NY 11377\\n</td>\n",
              "      <td>JPMorgan Chase Bank, National Association</td>\n",
              "      <td>Nassau</td>\n",
              "    </tr>\n",
              "    <tr>\n",
              "      <th>2</th>\n",
              "      <td>2</td>\n",
              "      <td>1.0</td>\n",
              "      <td>-1.358354</td>\n",
              "      <td>-1.340163</td>\n",
              "      <td>-1.127901</td>\n",
              "      <td>0.001365</td>\n",
              "      <td>-0.503198</td>\n",
              "      <td>1.800499</td>\n",
              "      <td>0.791461</td>\n",
              "      <td>0.247676</td>\n",
              "      <td>-1.514654</td>\n",
              "      <td>0.207643</td>\n",
              "      <td>0.624501</td>\n",
              "      <td>0.066084</td>\n",
              "      <td>0.717293</td>\n",
              "      <td>-0.165946</td>\n",
              "      <td>2.345865</td>\n",
              "      <td>-2.890083</td>\n",
              "      <td>1.109969</td>\n",
              "      <td>-0.121359</td>\n",
              "      <td>-2.261857</td>\n",
              "      <td>0.524980</td>\n",
              "      <td>0.247998</td>\n",
              "      <td>0.771679</td>\n",
              "      <td>0.909412</td>\n",
              "      <td>-0.689281</td>\n",
              "      <td>-0.327642</td>\n",
              "      <td>-0.139097</td>\n",
              "      <td>-0.055353</td>\n",
              "      <td>-0.059752</td>\n",
              "      <td>378.66</td>\n",
              "      <td>0</td>\n",
              "      <td>103 Main Street\\nCooperstown, NY 13326\\n(42.70...</td>\n",
              "      <td>TD Bank N.A.</td>\n",
              "      <td>Erie</td>\n",
              "    </tr>\n",
              "    <tr>\n",
              "      <th>3</th>\n",
              "      <td>3</td>\n",
              "      <td>1.0</td>\n",
              "      <td>-0.966272</td>\n",
              "      <td>-0.185226</td>\n",
              "      <td>-1.127901</td>\n",
              "      <td>0.001365</td>\n",
              "      <td>-0.010309</td>\n",
              "      <td>1.247203</td>\n",
              "      <td>0.237609</td>\n",
              "      <td>0.377436</td>\n",
              "      <td>-1.387024</td>\n",
              "      <td>-0.054952</td>\n",
              "      <td>-0.226487</td>\n",
              "      <td>0.178228</td>\n",
              "      <td>0.507757</td>\n",
              "      <td>-0.287924</td>\n",
              "      <td>-0.631418</td>\n",
              "      <td>-1.059647</td>\n",
              "      <td>-0.684093</td>\n",
              "      <td>1.965775</td>\n",
              "      <td>-1.232622</td>\n",
              "      <td>-0.208038</td>\n",
              "      <td>-0.108300</td>\n",
              "      <td>0.005274</td>\n",
              "      <td>-0.190321</td>\n",
              "      <td>-1.175575</td>\n",
              "      <td>0.647376</td>\n",
              "      <td>-0.221929</td>\n",
              "      <td>0.062723</td>\n",
              "      <td>0.061458</td>\n",
              "      <td>123.50</td>\n",
              "      <td>0</td>\n",
              "      <td>2255 East Ridge Road\\nRochester, NY 14622\\n(43...</td>\n",
              "      <td>Santander Bank</td>\n",
              "      <td>Ulster</td>\n",
              "    </tr>\n",
              "    <tr>\n",
              "      <th>4</th>\n",
              "      <td>4</td>\n",
              "      <td>2.0</td>\n",
              "      <td>-1.158233</td>\n",
              "      <td>0.877737</td>\n",
              "      <td>-1.127901</td>\n",
              "      <td>0.001365</td>\n",
              "      <td>-0.407193</td>\n",
              "      <td>0.095921</td>\n",
              "      <td>0.592941</td>\n",
              "      <td>-0.270533</td>\n",
              "      <td>0.817739</td>\n",
              "      <td>0.753074</td>\n",
              "      <td>-0.822843</td>\n",
              "      <td>0.538196</td>\n",
              "      <td>1.345852</td>\n",
              "      <td>-1.119670</td>\n",
              "      <td>0.175121</td>\n",
              "      <td>-0.451449</td>\n",
              "      <td>-0.237033</td>\n",
              "      <td>-0.038195</td>\n",
              "      <td>0.803487</td>\n",
              "      <td>0.408542</td>\n",
              "      <td>-0.009431</td>\n",
              "      <td>0.798278</td>\n",
              "      <td>-0.137458</td>\n",
              "      <td>0.141267</td>\n",
              "      <td>-0.206010</td>\n",
              "      <td>0.502292</td>\n",
              "      <td>0.219422</td>\n",
              "      <td>0.215153</td>\n",
              "      <td>69.99</td>\n",
              "      <td>0</td>\n",
              "      <td>2872 Broadway\\nNew York, NY 10025\\n(40.805224,...</td>\n",
              "      <td>Chemung Canal Trust Company</td>\n",
              "      <td>Oswego</td>\n",
              "    </tr>\n",
              "  </tbody>\n",
              "</table>\n",
              "</div>"
            ],
            "text/plain": [
              "   Unnamed: 0  Time  ...                                        V30      V31\n",
              "0           0   0.0  ...  JPMorgan Chase Bank, National Association  Suffolk\n",
              "1           1   0.0  ...  JPMorgan Chase Bank, National Association   Nassau\n",
              "2           2   1.0  ...                               TD Bank N.A.     Erie\n",
              "3           3   1.0  ...                             Santander Bank   Ulster\n",
              "4           4   2.0  ...                Chemung Canal Trust Company   Oswego\n",
              "\n",
              "[5 rows x 35 columns]"
            ]
          },
          "metadata": {
            "tags": []
          },
          "execution_count": 4
        }
      ]
    },
    {
      "cell_type": "markdown",
      "metadata": {
        "id": "bhHrHMrhguwm",
        "colab_type": "text"
      },
      "source": [
        "#Exploring data"
      ]
    },
    {
      "cell_type": "code",
      "metadata": {
        "id": "7LVrQkhggYtu",
        "colab_type": "code",
        "outputId": "c8559e06-2b44-4776-d783-378a397b78aa",
        "colab": {
          "base_uri": "https://localhost:8080/",
          "height": 121
        }
      },
      "source": [
        "CATEGORICAL_INPUT_FEATURES = ['V{}'.format(i) for i in range(30, 32)]\n",
        "ALL_FEATURES = list(fraud_df_clean)\n",
        "\n",
        "INPUT_FEATURES = ALL_FEATURES.copy()\n",
        "INPUT_FEATURES.remove('Class') #target\n",
        "INPUT_FEATURES.remove('V29') #seems not important\n",
        "print(INPUT_FEATURES)\n",
        "NUMERICAL_INPUT_FEATURES = [feature for feature in INPUT_FEATURES if feature not in CATEGORICAL_INPUT_FEATURES]\n",
        "print(NUMERICAL_INPUT_FEATURES)\n",
        "print(CATEGORICAL_INPUT_FEATURES)\n",
        "fraud_df_clean.Class.value_counts()"
      ],
      "execution_count": 5,
      "outputs": [
        {
          "output_type": "stream",
          "text": [
            "['Unnamed: 0', 'Time', 'V1', 'V2', 'V3', 'V4', 'V5', 'V6', 'V7', 'V8', 'V9', 'V10', 'V11', 'V12', 'V13', 'V14', 'V15', 'V16', 'V17', 'V18', 'V19', 'V20', 'V21', 'V22', 'V23', 'V24', 'V25', 'V26', 'V27', 'V28', 'Amount', 'V30', 'V31']\n",
            "['Unnamed: 0', 'Time', 'V1', 'V2', 'V3', 'V4', 'V5', 'V6', 'V7', 'V8', 'V9', 'V10', 'V11', 'V12', 'V13', 'V14', 'V15', 'V16', 'V17', 'V18', 'V19', 'V20', 'V21', 'V22', 'V23', 'V24', 'V25', 'V26', 'V27', 'V28', 'Amount']\n",
            "['V30', 'V31']\n"
          ],
          "name": "stdout"
        },
        {
          "output_type": "execute_result",
          "data": {
            "text/plain": [
              "0    284315\n",
              "1       492\n",
              "Name: Class, dtype: int64"
            ]
          },
          "metadata": {
            "tags": []
          },
          "execution_count": 5
        }
      ]
    },
    {
      "cell_type": "markdown",
      "metadata": {
        "id": "LsVI2Xa9hoGN",
        "colab_type": "text"
      },
      "source": [
        "# Test train split"
      ]
    },
    {
      "cell_type": "code",
      "metadata": {
        "id": "OxPnWzILhtTz",
        "colab_type": "code",
        "outputId": "e8dffa07-36fe-487b-dd77-665709c8c272",
        "colab": {
          "base_uri": "https://localhost:8080/",
          "height": 52
        }
      },
      "source": [
        "#splitting data into train and test:\n",
        "from sklearn.model_selection import train_test_split\n",
        "import numpy as np\n",
        "\n",
        "df_train, df_test = train_test_split(fraud_df_clean, test_size=0.3, random_state=1333)\n",
        "X_train= df_train.drop('Class',axis =1)\n",
        "X_test = df_test.drop('Class',axis =1)\n",
        "\n",
        "y_train =df_train.Class\n",
        "y_test =df_test.Class\n",
        "print(len(y_train))\n",
        "print(len(X_test))\n"
      ],
      "execution_count": 6,
      "outputs": [
        {
          "output_type": "stream",
          "text": [
            "199364\n",
            "85443\n"
          ],
          "name": "stdout"
        }
      ]
    },
    {
      "cell_type": "markdown",
      "metadata": {
        "id": "-8e66BFWhS9R",
        "colab_type": "text"
      },
      "source": [
        "#Encode categorical features v30, v31\n"
      ]
    },
    {
      "cell_type": "code",
      "metadata": {
        "id": "-VyAV5ZyhO6k",
        "colab_type": "code",
        "outputId": "e042d5e3-b369-489b-f150-94db89e25207",
        "colab": {
          "base_uri": "https://localhost:8080/",
          "height": 52
        }
      },
      "source": [
        "# encode categorical attributes into a binary one-hot encoded representation in test data and train data\n",
        "def encode_cat_features(cat_cols, train_data,test_data):\n",
        "  train_encoded = pd.get_dummies(train_data[cat_cols], prefix_sep=\"__\", columns=cat_cols)\n",
        "  encoded_columns = list(train_encoded.columns[:])\n",
        "  #print(encoded_columns)\n",
        "  cat_dummies = [col for col in train_encoded if \"__\" in col and col.split(\"__\")[0] in cat_cols]\n",
        "  test_encoded = pd.get_dummies(test_data[cat_cols], prefix_sep=\"__\", columns=cat_cols)\n",
        "  # Remove additional columns\n",
        "  for col in test_encoded.columns:\n",
        "    if (\"__\" in col) and (col.split(\"__\")[0] in cat_cols) and col not in cat_dummies:\n",
        "      print(\"Removing additional feature {}\".format(col))\n",
        "      test_encoded.drop(col, axis=1, inplace=True)\n",
        "  #add missing cols\n",
        "  for col in cat_dummies:\n",
        "    if col not in test_encoded.columns:\n",
        "      print(\"Adding missing feature {}\".format(col))\n",
        "      test_processed[col] = 0\n",
        "  test_encoded = test_encoded[encoded_columns]\n",
        "  return (train_encoded,test_encoded)\n",
        "\n",
        "X_train_cat, X_test_cat = encode_cat_features(CATEGORICAL_INPUT_FEATURES,X_train, X_test)\n",
        "X_train_num = X_train[NUMERICAL_INPUT_FEATURES]\n",
        "X_test_num = X_test[NUMERICAL_INPUT_FEATURES]\n",
        "\n",
        "df_train= pd.concat([X_train_cat,X_train_num, y_train], axis = 1)\n",
        "df_test = pd.concat([X_test_cat, X_test_num, y_test], axis = 1)\n",
        "\n",
        "#Get a portion of data due to high number of data \n",
        "df_train_rd = df_train.sample(frac =.3)\n",
        "df_test_rd= df_test.sample(frac = .3)\n",
        "\n",
        "print(len(df_train_rd))\n",
        "print(len(df_test_rd))"
      ],
      "execution_count": 7,
      "outputs": [
        {
          "output_type": "stream",
          "text": [
            "59809\n",
            "25633\n"
          ],
          "name": "stdout"
        }
      ]
    },
    {
      "cell_type": "markdown",
      "metadata": {
        "id": "fP_w6h1Pt0J0",
        "colab_type": "text"
      },
      "source": [
        "#Performing OneClassSVM :\n"
      ]
    },
    {
      "cell_type": "code",
      "metadata": {
        "id": "f06XFE36jioz",
        "colab_type": "code",
        "colab": {
          "base_uri": "https://localhost:8080/",
          "height": 86
        },
        "outputId": "95cfd2d4-677f-4d33-d875-1a4b704783ac"
      },
      "source": [
        "from sklearn.svm import OneClassSVM \n",
        "import numpy as np\n",
        "#print(len(train_data.Class))\n",
        "df_train_norm = df_train_rd[df_train_rd.Class==0]\n",
        "X_train_norm = df_train_norm.drop('Class', axis = 1)\n",
        "\n",
        "#outliers\n",
        "df_train_outliers = df_train_rd[df_train_rd.Class==1] \n",
        "\n",
        "outlier_prop = len(df_train_outliers) / len(df_train_norm) \n",
        "#svm = OneClassSVM(kernel='rbf', nu=outlier_prop, gamma=0.000001) \n",
        "\n",
        "#train on normal data\n",
        "svm = OneClassSVM(kernel='rbf', gamma=0.000001)\n",
        "svm.fit(X_train_norm)\n",
        "\n",
        "y_true = pd.DataFrame(df_test_rd.Class.values)\n",
        "test = df_test_rd.drop('Class', axis = 1)\n",
        "\n",
        "#predict on test data\n",
        "fraud_pred = svm.predict(test)\n",
        "\n",
        "# Check the number of outliers predicted by the algorithm\n",
        "unique, counts = np.unique(fraud_pred, return_counts=True)\n",
        "print (np.asarray((unique, counts)).T)\n",
        "\n",
        "#Convert Y-test and fraud_pred to dataframe for ease of operation\n",
        "fraud_pred = pd.DataFrame(fraud_pred)\n",
        "fraud_pred= fraud_pred.rename(columns={0: 'prediction'})\n",
        "print(y_test.shape)\n",
        "print(fraud_pred.shape)"
      ],
      "execution_count": 8,
      "outputs": [
        {
          "output_type": "stream",
          "text": [
            "[[   -1 12917]\n",
            " [    1 12716]]\n",
            "(85443,)\n",
            "(25633, 1)\n"
          ],
          "name": "stdout"
        }
      ]
    },
    {
      "cell_type": "markdown",
      "metadata": {
        "id": "2FF9Jfth4Trr",
        "colab_type": "text"
      },
      "source": [
        "#Display Results"
      ]
    },
    {
      "cell_type": "code",
      "metadata": {
        "id": "qWVPcHQe0Ovd",
        "colab_type": "code",
        "colab": {
          "base_uri": "https://localhost:8080/",
          "height": 208
        },
        "outputId": "3b3a8895-b307-4630-fa8f-852881f73d7e"
      },
      "source": [
        "##Performance check of the model\n",
        "TP = FN = FP = TN = 0\n",
        "for j in range(len(y_true)):\n",
        "    if y_true[0][j]== 0 and fraud_pred['prediction'][j] == 1:\n",
        "        TP = TP+1\n",
        "    elif y_true[0][j]== 0 and fraud_pred['prediction'][j] == -1:\n",
        "        FN = FN+1\n",
        "    elif y_true[0][j]== 1 and fraud_pred['prediction'][j] == 1:\n",
        "        FP = FP+1\n",
        "    else:\n",
        "        TN = TN +1\n",
        "print (TP,  FN,  FP,  TN)\n",
        "print('#=================')\n",
        "# Performance Matrix\n",
        "\n",
        "precision = TP/(TP+FP)\n",
        "print (\"Precision OCSVM: \",precision)\n",
        "print('#==================')\n",
        "true_Neg = TN/(TN+FP)\n",
        "print (\"specificity OCSVM: \", true_Neg)\n",
        "print('#====================')\n",
        "F1_Score = 2*TP/(2*TP+FP+FN)\n",
        "print(\"F1 Score OCSVM\", F1_Score)\n",
        "print(\"#===================\")\n",
        "\n",
        "accuracy = (TP+TN)/(TP+FN+FP+TN)\n",
        "print (\"Accuracy OCSVM\", accuracy)\n",
        "print('#=====================')\n",
        "\n",
        "recall = TP/(TP+FN)\n",
        "print (\"Recall OCSVM: \", recall)"
      ],
      "execution_count": 14,
      "outputs": [
        {
          "output_type": "stream",
          "text": [
            "12702 12877 14 40\n",
            "#=================\n",
            "Precision OCSVM:  0.9988990248505819\n",
            "#==================\n",
            "specificity OCSVM:  0.7407407407407407\n",
            "#====================\n",
            "F1 Score OCSVM 0.663376419898159\n",
            "#===================\n",
            "Accuracy OCSVM 0.49709359029376193\n",
            "#=====================\n",
            "Recall OCSVM:  0.49657922514562725\n"
          ],
          "name": "stdout"
        }
      ]
    },
    {
      "cell_type": "code",
      "metadata": {
        "id": "jTKWYAq3I2ro",
        "colab_type": "code",
        "colab": {}
      },
      "source": [
        ""
      ],
      "execution_count": 0,
      "outputs": []
    }
  ]
}