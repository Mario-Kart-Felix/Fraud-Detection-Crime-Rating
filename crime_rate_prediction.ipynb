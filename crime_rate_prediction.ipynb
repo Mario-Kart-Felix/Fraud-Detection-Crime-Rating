{
  "nbformat": 4,
  "nbformat_minor": 0,
  "metadata": {
    "colab": {
      "name": "crime_rate_prediction.ipynb",
      "provenance": [],
      "collapsed_sections": [],
      "authorship_tag": "ABX9TyPWOoEwkEdp7pDx+HQZssTX",
      "include_colab_link": true
    },
    "kernelspec": {
      "name": "python3",
      "display_name": "Python 3"
    }
  },
  "cells": [
    {
      "cell_type": "markdown",
      "metadata": {
        "id": "view-in-github",
        "colab_type": "text"
      },
      "source": [
        "<a href=\"https://colab.research.google.com/github/Marzieh777/Fraud-Detection-Crime-Rating/blob/master/crime_rate_prediction.ipynb\" target=\"_parent\"><img src=\"https://colab.research.google.com/assets/colab-badge.svg\" alt=\"Open In Colab\"/></a>"
      ]
    },
    {
      "cell_type": "code",
      "metadata": {
        "id": "_1l6-IkrnRqD",
        "colab_type": "code",
        "colab": {}
      },
      "source": [
        "#import necessary pachages:\n",
        "import pandas as pd\n",
        "import gzip\n",
        "import numpy as np\n",
        "\n",
        "import sklearn.metrics as metrics\n",
        "from sklearn.tree import DecisionTreeClassifier\n",
        "\n",
        "from sklearn import svm\n",
        "from sklearn.model_selection import cross_val_score\n",
        "from sklearn.linear_model import LogisticRegression\n",
        "from  sklearn.linear_model import LinearRegression\n",
        "from sklearn.naive_bayes import GaussianNB\n",
        "import sklearn.linear_model as linear_model\n",
        "from sklearn.ensemble import GradientBoostingClassifier\n",
        "from sklearn.ensemble import RandomForestClassifier\n",
        "\n",
        "\n",
        "import matplotlib.pyplot as plot\n",
        "from sklearn import linear_model\n",
        "import math\n",
        "\n",
        "import matplotlib.pyplot as plt\n",
        "from sklearn.model_selection import train_test_split\n"
      ],
      "execution_count": 0,
      "outputs": []
    },
    {
      "cell_type": "markdown",
      "metadata": {
        "id": "K2e8aPk3IrpS",
        "colab_type": "text"
      },
      "source": [
        "#set up google colab for reading data (the work was done on google colab)"
      ]
    },
    {
      "cell_type": "code",
      "metadata": {
        "id": "Rnbmf1yroEsL",
        "colab_type": "code",
        "outputId": "2fe72565-155a-46d6-8668-5634640672a4",
        "colab": {
          "base_uri": "https://localhost:8080/",
          "height": 34
        }
      },
      "source": [
        "from google.colab import drive\n",
        "drive.mount(\"/content/drive\", force_remount=True)\n"
      ],
      "execution_count": 3,
      "outputs": [
        {
          "output_type": "stream",
          "text": [
            "Mounted at /content/drive\n"
          ],
          "name": "stdout"
        }
      ]
    },
    {
      "cell_type": "markdown",
      "metadata": {
        "id": "5s1ewy-5JNO5",
        "colab_type": "text"
      },
      "source": [
        "#Preprocessing \n",
        "* fill nan values\n",
        "*  encoding categorical data\n"
      ]
    },
    {
      "cell_type": "markdown",
      "metadata": {
        "id": "1eskCsH1I40G",
        "colab_type": "text"
      },
      "source": [
        "#Explore data set and fill Nan Values"
      ]
    },
    {
      "cell_type": "code",
      "metadata": {
        "id": "UkQoOF36oKrE",
        "colab_type": "code",
        "outputId": "692b4c22-98cb-47c1-a736-96421540f626",
        "colab": {
          "base_uri": "https://localhost:8080/",
          "height": 277
        }
      },
      "source": [
        "path_data= '/content/drive/My Drive/Colab Notebooks/crime_prep.csv.gz'\n",
        "data = pd.read_csv(path_data, compression='gzip', header=0, sep=',', quotechar='\"')\n",
        "#dataset_train = pd.read_csv(path_data)\n",
        "print(data.shape)\n",
        "print(data.info())\n",
        "print(data.head())\n",
        "#crime_df = data.fillna(0)\n",
        "#print(crime_df.head())\n"
      ],
      "execution_count": 4,
      "outputs": [
        {
          "output_type": "stream",
          "text": [
            "(1994, 128)\n",
            "<class 'pandas.core.frame.DataFrame'>\n",
            "RangeIndex: 1994 entries, 0 to 1993\n",
            "Columns: 128 entries, target to v_cont_126\n",
            "dtypes: float64(125), int64(2), object(1)\n",
            "memory usage: 1.9+ MB\n",
            "None\n",
            "   target  v_cont_0  v_cat_0  ...  v_cont_124 v_cont_125  v_cont_126\n",
            "0    0.20         8      NaN  ...         0.5       0.32        0.14\n",
            "1    0.67        53      NaN  ...         NaN       0.00         NaN\n",
            "2    0.43        24      NaN  ...         NaN       0.00         NaN\n",
            "3    0.12        34      5.0  ...         NaN       0.00         NaN\n",
            "4    0.03        42     95.0  ...         NaN       0.00         NaN\n",
            "\n",
            "[5 rows x 128 columns]\n"
          ],
          "name": "stdout"
        }
      ]
    },
    {
      "cell_type": "code",
      "metadata": {
        "id": "dIeAwBZYJ7bi",
        "colab_type": "code",
        "colab": {
          "base_uri": "https://localhost:8080/",
          "height": 156
        },
        "outputId": "6da3eeaf-1a8b-46d4-aec4-84885130e8a3"
      },
      "source": [
        "#NaN values for categorical and numerical:\n",
        "from sklearn.base import TransformerMixin\n",
        "\n",
        "class DataFrameImputer(TransformerMixin):\n",
        "\n",
        "    def __init__(self):\n",
        "        \"\"\"Impute missing values.\n",
        "\n",
        "        Columns of dtype object are imputed with the most frequent value \n",
        "        in column.\n",
        "\n",
        "        Columns of other types are imputed with mean of column.\n",
        "\n",
        "        \"\"\"\n",
        "    def fit(self, X, y=None):\n",
        "\n",
        "        self.fill = pd.Series([X[c].value_counts().index[0]\n",
        "            if X[c].dtype == np.dtype('O') else X[c].mean() for c in X],\n",
        "            index=X.columns)\n",
        "\n",
        "        return self\n",
        "\n",
        "    def transform(self, X, y=None):\n",
        "        return X.fillna(self.fill)\n",
        "\n",
        "crime_df= DataFrameImputer().fit_transform(data)\n",
        "print(crime_df.head())"
      ],
      "execution_count": 5,
      "outputs": [
        {
          "output_type": "stream",
          "text": [
            "   target  v_cont_0    v_cat_0  ...  v_cont_124 v_cont_125  v_cont_126\n",
            "0    0.20         8  58.826829  ...    0.500000       0.32    0.140000\n",
            "1    0.67        53  58.826829  ...    0.440439       0.00    0.195078\n",
            "2    0.43        24  58.826829  ...    0.440439       0.00    0.195078\n",
            "3    0.12        34   5.000000  ...    0.440439       0.00    0.195078\n",
            "4    0.03        42  95.000000  ...    0.440439       0.00    0.195078\n",
            "\n",
            "[5 rows x 128 columns]\n"
          ],
          "name": "stdout"
        }
      ]
    },
    {
      "cell_type": "markdown",
      "metadata": {
        "id": "fgN8ACJALIIa",
        "colab_type": "text"
      },
      "source": [
        "## The first approache is to see the problem as a classification task, So we need to create a new column that shows high crime and lower crime rates, we can put a threshold and change it as it is required. here we put threshold as 0.2, and it can be higher or lower"
      ]
    },
    {
      "cell_type": "code",
      "metadata": {
        "id": "XMBrpjBloeNK",
        "colab_type": "code",
        "outputId": "51b6d7d4-d4a0-4d73-ca84-f00d5ad15072",
        "colab": {
          "base_uri": "https://localhost:8080/",
          "height": 121
        }
      },
      "source": [
        "def set_new_label(df):\n",
        "    '''Function to set value of highCrime depending on ViolentCrimesPerPop'''\n",
        "    if df['target'] > 0.2:\n",
        "        return True\n",
        "    else:\n",
        "        return False\n",
        "    \n",
        "# Adding a new column named \"target2\"\n",
        "crime_df['target2'] = crime_df.apply(set_new_label, axis=1)\n",
        "\n",
        "\n",
        "# Calculating the percentage of True and False instances in the dataset\n",
        "portions = crime_df.groupby('target2').size() * 100 / len(crime_df)\n",
        "print(portions)\n",
        "\n",
        "print(\"Percentage high rate of crime = {}\\nPercentage low rate of crime = {} \".format(portions[1],portions[0]))"
      ],
      "execution_count": 6,
      "outputs": [
        {
          "output_type": "stream",
          "text": [
            "target2\n",
            "False    59.578736\n",
            "True     40.421264\n",
            "dtype: float64\n",
            "Percentage high rate of crime = 40.42126379137412\n",
            "Percentage low rate of crime = 59.57873620862588 \n"
          ],
          "name": "stdout"
        }
      ]
    },
    {
      "cell_type": "markdown",
      "metadata": {
        "id": "hODrIp9ONDyY",
        "colab_type": "text"
      },
      "source": [
        "#splitting data and fix a seed\n"
      ]
    },
    {
      "cell_type": "code",
      "metadata": {
        "id": "1q1QtyLDFUHG",
        "colab_type": "code",
        "colab": {
          "base_uri": "https://localhost:8080/",
          "height": 225
        },
        "outputId": "7474e956-cd1e-4949-bcdc-92bf002bc0b9"
      },
      "source": [
        "SEED =1333\n",
        "train_df, test_df = train_test_split(crime_df, test_size=0.2, random_state=SEED)\n",
        "print(train_df.dtypes)"
      ],
      "execution_count": 7,
      "outputs": [
        {
          "output_type": "stream",
          "text": [
            "target        float64\n",
            "v_cont_0        int64\n",
            "v_cat_0       float64\n",
            "v_cat_1       float64\n",
            "v_cat_2        object\n",
            "               ...   \n",
            "v_cont_123    float64\n",
            "v_cont_124    float64\n",
            "v_cont_125    float64\n",
            "v_cont_126    float64\n",
            "target2          bool\n",
            "Length: 129, dtype: object\n"
          ],
          "name": "stdout"
        }
      ]
    },
    {
      "cell_type": "markdown",
      "metadata": {
        "id": "mrkGMLMUB8Jh",
        "colab_type": "text"
      },
      "source": [
        "## Drop non predictive features and split target and features\n",
        "* since we have one categorical feature, we ignore it for now and will noe encode it."
      ]
    },
    {
      "cell_type": "code",
      "metadata": {
        "id": "OSofL-7QBEcJ",
        "colab_type": "code",
        "outputId": "545b0075-878a-4ba9-9fa6-61e8f9ea25e8",
        "colab": {
          "base_uri": "https://localhost:8080/",
          "height": 121
        }
      },
      "source": [
        "#Dropping non predictive columns to obtain features\n",
        "X = train_df.drop('target', axis=1).drop('target2', axis=1).drop('v_cat_2',axis =1)\n",
        "print(X.info())\n",
        "features = list(X.columns)\n",
        "y = train_df[\"target2\"]\n",
        "\n",
        "X_test = test_df.drop('target', axis=1).drop('target2', axis=1).drop('v_cat_2',axis =1)\n",
        "y_test= test_df[\"target2\"]"
      ],
      "execution_count": 8,
      "outputs": [
        {
          "output_type": "stream",
          "text": [
            "<class 'pandas.core.frame.DataFrame'>\n",
            "Int64Index: 1595 entries, 189 to 377\n",
            "Columns: 126 entries, v_cont_0 to v_cont_126\n",
            "dtypes: float64(124), int64(2)\n",
            "memory usage: 1.5 MB\n",
            "None\n"
          ],
          "name": "stdout"
        }
      ]
    },
    {
      "cell_type": "markdown",
      "metadata": {
        "id": "TxzBuA-3O8iF",
        "colab_type": "text"
      },
      "source": [
        "# First model is Decision threes with no max depth, "
      ]
    },
    {
      "cell_type": "code",
      "metadata": {
        "id": "VXoSCcTGOwre",
        "colab_type": "code",
        "colab": {
          "base_uri": "https://localhost:8080/",
          "height": 52
        },
        "outputId": "054ee431-32f4-4c4a-caaa-777b0c6d371e"
      },
      "source": [
        "tree_clf = DecisionTreeClassifier()\n",
        "tree_clf.fit(X,y)\n",
        "predictions = tree_clf.predict(X[features])\n",
        "recall_score = metrics.recall_score(train_df['target2'], predictions)\n",
        "precision_score = metrics.precision_score(train_df['target2'], predictions)\n",
        "accuracy_score = metrics.accuracy_score(train_df['target2'], predictions)\n",
        "print(\"Accuracy Train = {} Precision Train = {} Recall Train = {}\".format(accuracy_score,precision_score,recall_score))\n",
        "\n",
        "test_predicted = tree_clf.predict(X_test[features])\n",
        "test_recall_score = metrics.recall_score(test_df['target2'], test_predicted)\n",
        "test_precision_score = metrics.precision_score(test_df['target2'],test_predicted)\n",
        "test_accuracy_score = metrics.accuracy_score(test_df['target2'], test_predicted)\n",
        "print(\"Accuracy Test= {} Precision Test= {} Recall Test = {}\".format(test_accuracy_score,test_precision_score,test_recall_score))"
      ],
      "execution_count": 9,
      "outputs": [
        {
          "output_type": "stream",
          "text": [
            "Accuracy Train = 1.0 Precision Train = 1.0 Recall Train = 1.0\n",
            "Accuracy Test= 0.7869674185463659 Precision Test= 0.7534246575342466 Recall Test = 0.6918238993710691\n"
          ],
          "name": "stdout"
        }
      ]
    },
    {
      "cell_type": "markdown",
      "metadata": {
        "id": "nZ94_yamQVSl",
        "colab_type": "text"
      },
      "source": [
        "#To avoid overfitting we should choose the best  hyperparameter 'DEPTH' in decision tree\n",
        "* we will do a grid search along with CROSS-VALIDATION\n",
        " on different depths, particularly small values since higher depths are the cause of overfitting"
      ]
    },
    {
      "cell_type": "code",
      "metadata": {
        "id": "f7JDaUiiCd0H",
        "colab_type": "code",
        "outputId": "2f530394-0ff5-4a07-9e16-f7688177310f",
        "colab": {
          "base_uri": "https://localhost:8080/",
          "height": 173
        }
      },
      "source": [
        "\n",
        "#cross validation to avoid overfitting\n",
        "for depth in range(1,10):\n",
        "    clf = DecisionTreeClassifier(max_depth=depth, random_state=42)\n",
        "    if clf.fit(X,y).tree_.max_depth < depth:\n",
        "        break\n",
        "    score = np.mean(cross_val_score(tree_clf, X, y,scoring='accuracy', cv=10, n_jobs=1))\n",
        "    print(\"Depth: %i Accuracy: %.3f\" % (depth,score))\n"
      ],
      "execution_count": 10,
      "outputs": [
        {
          "output_type": "stream",
          "text": [
            "Depth: 1 Accuracy: 0.774\n",
            "Depth: 2 Accuracy: 0.766\n",
            "Depth: 3 Accuracy: 0.777\n",
            "Depth: 4 Accuracy: 0.775\n",
            "Depth: 5 Accuracy: 0.774\n",
            "Depth: 6 Accuracy: 0.775\n",
            "Depth: 7 Accuracy: 0.781\n",
            "Depth: 8 Accuracy: 0.776\n",
            "Depth: 9 Accuracy: 0.772\n"
          ],
          "name": "stdout"
        }
      ]
    },
    {
      "cell_type": "markdown",
      "metadata": {
        "id": "KUoKPPAPSHIu",
        "colab_type": "text"
      },
      "source": [
        "# We observe that the accuracy is higher in depth 7, So we choose it as our best hyperparameter"
      ]
    },
    {
      "cell_type": "code",
      "metadata": {
        "id": "T785ziGVDzh5",
        "colab_type": "code",
        "outputId": "8e31d80f-96ad-42d5-e3a6-28bd0e98f9de",
        "colab": {
          "base_uri": "https://localhost:8080/",
          "height": 121
        }
      },
      "source": [
        "bestTree_clf = DecisionTreeClassifier(max_depth=7)\n",
        "bestTree_clf.fit(X,y)\n",
        "\n",
        "#Predict on Train \n",
        "pred_train= bestTree_clf.predict(X)\n",
        "train_accuracy= metrics.accuracy_score(train_df['target2'], pred_train)\n",
        "train_precision= metrics.precision_score(train_df['target2'], pred_train)\n",
        "train_recall= metrics.recall_score(train_df['target2'], pred_train)\n",
        "\n",
        "print(\"Train Accuracy of Optimal decision tree  =\",train_accuracy)\n",
        "print(\"Train Precision of Optimal decision tree  =\",train_precision)\n",
        "print(\"Train Recall of Optimal decision tree =\",train_precision)\n",
        "\n",
        "#predict on Test\n",
        "test_pred= bestTree_clf.predict(X_test)\n",
        "test_accuracy= metrics.accuracy_score(test_df['target2'],test_pred)\n",
        "test_precision= metrics.precision_score(test_df['target2'], test_pred)\n",
        "test_dt_recall= metrics.recall_score(test_df['target2'], test_pred)\n",
        "print(\"TEST Accuracy of Optimal decision tree=\",test_accuracy)\n",
        "print(\"TEST Precision of Optimal decision tree  =\",test_precision)\n",
        "print(\"TEST Recall of Optimal decision tree =\",test_precision)"
      ],
      "execution_count": 11,
      "outputs": [
        {
          "output_type": "stream",
          "text": [
            "Train Accuracy of Optimal decision tree  = 0.9385579937304075\n",
            "Train Precision of Optimal decision tree  = 0.926905132192846\n",
            "Train Recall of Optimal decision tree = 0.926905132192846\n",
            "TEST Accuracy of Optimal decision tree= 0.8095238095238095\n",
            "TEST Precision of Optimal decision tree  = 0.7785234899328859\n",
            "TEST Recall of Optimal decision tree = 0.7785234899328859\n"
          ],
          "name": "stdout"
        }
      ]
    },
    {
      "cell_type": "markdown",
      "metadata": {
        "id": "odogATYjTmu4",
        "colab_type": "text"
      },
      "source": [
        "#Appply 10 fold Cross validation to make sure about the performance on training, since we have a small amount of data:"
      ]
    },
    {
      "cell_type": "code",
      "metadata": {
        "id": "qsKCKHKeLm0u",
        "colab_type": "code",
        "outputId": "094aaa98-37c4-41cd-d71f-74bb23d6ddee",
        "colab": {
          "base_uri": "https://localhost:8080/",
          "height": 69
        }
      },
      "source": [
        "# Applying 10 fold cross validation\n",
        "X_all = crime_df.drop('target', axis=1).drop('target2', axis=1).drop('v_cat_2',axis =1)\n",
        "y_all = crime_df['target2']\n",
        "\n",
        "dt_cv_accuracy = cross_val_score(bestTree_clf, X_all, y_all, cv=10).mean()\n",
        "dt_cv_precision= cross_val_score(bestTree_clf, X_all, y_all, cv=10, scoring='precision').mean()\n",
        "dt_cv_recall = cross_val_score(bestTree_clf, X_all, y_all, cv=10, scoring='recall').mean()\n",
        "print(\"Cross Validation Accuracy DT:\", dt_cv_accuracy)\n",
        "print(\"Cross Validation Recall DT:\", dt_cv_precision)\n",
        "print(\"Cross Validation Precision DT:\", dt_cv_recall)"
      ],
      "execution_count": 12,
      "outputs": [
        {
          "output_type": "stream",
          "text": [
            "Cross Validation Accuracy DT: 0.8079572864321607\n",
            "Cross Validation Recall DT: 0.7713883821560177\n",
            "Cross Validation Precision DT: 0.7555092592592592\n"
          ],
          "name": "stdout"
        }
      ]
    },
    {
      "cell_type": "markdown",
      "metadata": {
        "id": "evjXMk9CJ0S4",
        "colab_type": "text"
      },
      "source": [
        "# Linear classifier (Guassian NB)"
      ]
    },
    {
      "cell_type": "code",
      "metadata": {
        "id": "sRYQ_xjgD_cR",
        "colab_type": "code",
        "outputId": "07fc7b07-7424-4330-e578-bb9010c693c7",
        "colab": {
          "base_uri": "https://localhost:8080/",
          "height": 69
        }
      },
      "source": [
        "# Using GaussianNB\n",
        "gaussian_clf = GaussianNB()\n",
        "gaussian_clf.fit(X_all, y_all)\n",
        "\n",
        "# Applying 10 fold cross validation\n",
        "gaussian_accuracy = cross_val_score(gaussian_clf, X_all, y_all, cv=10).mean()\n",
        "gaussian_precision= cross_val_score(gaussian_clf, X_all, y_all, cv=10, scoring='precision').mean()\n",
        "gaussian_recall = cross_val_score(gaussian_clf, X_all, y_all, cv=10, scoring='recall').mean()\n",
        "print(\"Accuracy for gaussian :\", gaussian_accuracy)\n",
        "print(\"Recall for gaussian:\", gaussian_recall)\n",
        "print(\"Precision for gaussian:\", gaussian_precision)\n"
      ],
      "execution_count": 13,
      "outputs": [
        {
          "output_type": "stream",
          "text": [
            "Accuracy for gaussian : 0.8009246231155778\n",
            "Recall for gaussian: 0.6129629629629629\n",
            "Precision for gaussian: 0.8556165730574232\n"
          ],
          "name": "stdout"
        }
      ]
    },
    {
      "cell_type": "markdown",
      "metadata": {
        "id": "-up9ttVGbRR3",
        "colab_type": "text"
      },
      "source": [
        "#Get high predictive features:"
      ]
    },
    {
      "cell_type": "code",
      "metadata": {
        "id": "_IGBMjT8KSqp",
        "colab_type": "code",
        "outputId": "289fc6f3-73e3-4479-aafa-f9f4188f197e",
        "colab": {
          "base_uri": "https://localhost:8080/",
          "height": 190
        }
      },
      "source": [
        "df_predictiveFeature = train_df\n",
        "#Predictive features\n",
        "dictPredFeature = {}\n",
        "# Collecting data for the two classes\n",
        "true_df = X[df_predictiveFeature['target2'] == 1]\n",
        "false_df = X[df_predictiveFeature['target2'] == 0]\n",
        "for column in X:\n",
        "    mean_true = true_df[column].mean()\n",
        "    mean_false = false_df[column].mean()\n",
        "    var_true = true_df[column].var()\n",
        "    var_false = false_df[column].var()\n",
        "    if(column != 'target2'):\n",
        "        predScore = abs((mean_true - mean_false))/(math.sqrt(var_true)+math.sqrt(var_false))\n",
        "        dictPredFeature[column] = predScore\n",
        "most_pred_features = sorted(dictPredFeature.items(), key=lambda x: x[1])[-10:]\n",
        "for i in most_pred_features:\n",
        "    print(i)"
      ],
      "execution_count": 14,
      "outputs": [
        {
          "output_type": "stream",
          "text": [
            "('v_cont_22', 0.6398472929576984)\n",
            "('v_cont_46', 0.649685455689602)\n",
            "('v_cont_51', 0.6665383519740923)\n",
            "('v_cont_45', 0.6736392678208543)\n",
            "('v_cont_20', 0.6916744011007128)\n",
            "('v_cont_50', 0.7052784469750342)\n",
            "('v_cont_8', 0.7251858187026683)\n",
            "('v_cont_55', 0.772674856506202)\n",
            "('v_cont_48', 0.7761155280364557)\n",
            "('v_cont_49', 0.8495786797491576)\n"
          ],
          "name": "stdout"
        }
      ]
    },
    {
      "cell_type": "markdown",
      "metadata": {
        "id": "fYY_QrBRLIxZ",
        "colab_type": "text"
      },
      "source": [
        "#Plotting results (accuracy, precision, recall) on Guassian and decision Tree to compare them"
      ]
    },
    {
      "cell_type": "code",
      "metadata": {
        "id": "4Dy-8UGxKtRd",
        "colab_type": "code",
        "outputId": "30d40a27-a953-4ad2-dc91-f8825a8d86f7",
        "colab": {
          "base_uri": "https://localhost:8080/",
          "height": 332
        }
      },
      "source": [
        "labels = [\"Decision Tree\" ,\"GaussianNB\"]\n",
        "acc = [dt_cv_accuracy,gaussian_accuracy]\n",
        "pre = [dt_cv_precision,gaussian_precision]\n",
        "re = [dt_cv_recall,gaussian_recall]\n",
        "\n",
        "x_axis_range = range(2)\n",
        "plt.xticks(x_axis_range, labels, rotation='vertical')\n",
        "# plt.legend()\n",
        "\n",
        "plt.plot(x_axis_range,acc,'ro',color=\"Red\",label=\"Accuracy\")\n",
        "plt.plot(x_axis_range,pre,'>',color=\"blue\",label=\"Precision\")\n",
        "plt.plot(x_axis_range,re,'<',color=\"blue\",label=\"Recall\")\n",
        "\n",
        "plt.xlabel('Model')\n",
        "plt.ylabel('Metrics')\n",
        "plt.margins(0.2)\n",
        "plt.subplots_adjust(bottom=0.15)\n",
        "legend = plt.legend()\n",
        "plt.show()"
      ],
      "execution_count": 15,
      "outputs": [
        {
          "output_type": "display_data",
          "data": {
            "image/png": "[encoded data removed]",
            "text/plain": [
              "<Figure size 432x288 with 1 Axes>"
            ]
          },
          "metadata": {
            "tags": []
          }
        }
      ]
    },
    {
      "cell_type": "markdown",
      "metadata": {
        "id": "dlzBLNDKcJV-",
        "colab_type": "text"
      },
      "source": [
        "#SVM Classifier:\n"
      ]
    },
    {
      "cell_type": "code",
      "metadata": {
        "id": "5cWgFgh3LVbB",
        "colab_type": "code",
        "colab": {}
      },
      "source": [
        "svm_clf = svm.SVC(kernel='linear', C =1.0)\n",
        "accuracy_svm = cross_val_score(svm_clf, X_all, y_all, scoring='accuracy').mean()\n",
        "precision_svm = cross_val_score(svm_clf, X_all, y_all, scoring='precision').mean()\n",
        "recall_svm = cross_val_score(svm_clf, X_all, y_all, scoring='recall').mean()\n",
        "print ('Accuracy for SVM ', accuracy_svm)\n",
        "print ('Precision for SVM ', precision_svm)\n",
        "print ('Recall for SVM', recall_svm)"
      ],
      "execution_count": 0,
      "outputs": []
    },
    {
      "cell_type": "code",
      "metadata": {
        "id": "r5a8vGESc3S5",
        "colab_type": "code",
        "colab": {
          "base_uri": "https://localhost:8080/",
          "height": 69
        },
        "outputId": "7736f969-23bf-48e8-edc8-6783f5ea6b8f"
      },
      "source": [
        "#Implementing XG-boost #max_depth= 10\n",
        "import xgboost as xgb\n",
        "xgb_clf = xgb.XGBClassifier(missing=9999999999,\n",
        "                max_depth = 15,\n",
        "                n_estimators=1000,\n",
        "                learning_rate=1,\n",
        "                nthread=4,\n",
        "                subsample=1.0,\n",
        "                colsample_bytree=0.5,\n",
        "                min_child_weight = 4,\n",
        "                seed=SEED)\n",
        "\n",
        "#fit classifier with eval_metric=AUC_PR, \n",
        "xgb_clf.fit(X_all, y_all)\n",
        "acc_xgb= cross_val_score(clf, X_all, y_all, cv=10, scoring='accuracy').mean()\n",
        "pr_xgb = cross_val_score(clf, X_all, y_all, cv=10, scoring='precision').mean()\n",
        "re_xgb = cross_val_score(clf, X_all, y_all, cv=10, scoring='recall').mean()\n",
        "print ('Accuracy XGB_Classifier', acc_xgb)\n",
        "print ('Precision  XGB_Classifier', pr_xgb)\n",
        "print ('Recall for XGB_Classifier', re_xgb)"
      ],
      "execution_count": 21,
      "outputs": [
        {
          "output_type": "stream",
          "text": [
            "Accuracy XGB_Classifier 0.7979120603015075\n",
            "Precision  XGB_Classifier 0.7463143656050925\n",
            "Recall for XGB_Classifier 0.7604012345679012\n"
          ],
          "name": "stdout"
        }
      ]
    },
    {
      "cell_type": "code",
      "metadata": {
        "id": "I5GT_ybhqGlx",
        "colab_type": "code",
        "colab": {
          "base_uri": "https://localhost:8080/",
          "height": 332
        },
        "outputId": "7aa8ae7a-235c-4154-b216-c1d5a79e4de8"
      },
      "source": [
        "labels = [\"Decision Tree\" ,\"GaussianNB\", \"XGB\"]\n",
        "acc = [dt_cv_accuracy,gaussian_accuracy,acc_xgb]\n",
        "pre = [dt_cv_precision,gaussian_precision,pr_xgb]\n",
        "re = [dt_cv_recall,gaussian_recall,re_xgb]\n",
        "\n",
        "x_axis_range = range(3)\n",
        "plt.xticks(x_axis_range, labels, rotation='vertical')\n",
        "# plt.legend()\n",
        "\n",
        "plt.plot(x_axis_range,acc,'ro',color=\"Red\",label=\"Accuracy\")\n",
        "plt.plot(x_axis_range,pre,'>',color=\"blue\",label=\"Precision\")\n",
        "plt.plot(x_axis_range,re,'<',color=\"blue\",label=\"Recall\")\n",
        "\n",
        "plt.xlabel('Model')\n",
        "plt.ylabel('Metrics')\n",
        "plt.margins(0.2)\n",
        "plt.subplots_adjust(bottom=0.15)\n",
        "legend = plt.legend()\n",
        "plt.show()"
      ],
      "execution_count": 22,
      "outputs": [
        {
          "output_type": "display_data",
          "data": {
            "image/png": "[encoded data removed]",
            "text/plain": [
              "<Figure size 432x288 with 1 Axes>"
            ]
          },
          "metadata": {
            "tags": []
          }
        }
      ]
    },
    {
      "cell_type": "code",
      "metadata": {
        "id": "InN0SKyu6Agk",
        "colab_type": "code",
        "colab": {}
      },
      "source": [
        ""
      ],
      "execution_count": 0,
      "outputs": []
    }
  ]
}